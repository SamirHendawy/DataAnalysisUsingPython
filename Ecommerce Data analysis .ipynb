{
 "cells": [
  {
   "cell_type": "markdown",
   "id": "4ad8a256",
   "metadata": {},
   "source": [
    "# Ecommerce Dataset"
   ]
  },
  {
   "cell_type": "code",
   "execution_count": 3,
   "id": "018fcd0f",
   "metadata": {},
   "outputs": [],
   "source": [
    "import pandas as pd\n",
    "import numpy as np\n",
    "import os\n",
    "import plotly.express as px"
   ]
  },
  {
   "cell_type": "markdown",
   "id": "3c461f23",
   "metadata": {},
   "source": [
    "### `Load the Dataset`"
   ]
  },
  {
   "cell_type": "code",
   "execution_count": 2,
   "id": "bde8f65e",
   "metadata": {},
   "outputs": [
    {
     "data": {
      "text/html": [
       "<div>\n",
       "<style scoped>\n",
       "    .dataframe tbody tr th:only-of-type {\n",
       "        vertical-align: middle;\n",
       "    }\n",
       "\n",
       "    .dataframe tbody tr th {\n",
       "        vertical-align: top;\n",
       "    }\n",
       "\n",
       "    .dataframe thead th {\n",
       "        text-align: right;\n",
       "    }\n",
       "</style>\n",
       "<table border=\"1\" class=\"dataframe\">\n",
       "  <thead>\n",
       "    <tr style=\"text-align: right;\">\n",
       "      <th></th>\n",
       "      <th>InvoiceNo</th>\n",
       "      <th>UnitPrice</th>\n",
       "      <th>OrderValue</th>\n",
       "      <th>Quantit</th>\n",
       "      <th>Country</th>\n",
       "      <th>InvoiceDate</th>\n",
       "      <th>InvoiceTime</th>\n",
       "      <th>Year-Month</th>\n",
       "      <th>Major Category</th>\n",
       "      <th>Minor Category</th>\n",
       "      <th>Description</th>\n",
       "    </tr>\n",
       "  </thead>\n",
       "  <tbody>\n",
       "    <tr>\n",
       "      <th>0</th>\n",
       "      <td>549185</td>\n",
       "      <td>0.85</td>\n",
       "      <td>10.20</td>\n",
       "      <td>12</td>\n",
       "      <td>United Kingdom</td>\n",
       "      <td>7/4/11</td>\n",
       "      <td>09:35</td>\n",
       "      <td>2011-04</td>\n",
       "      <td>Clothes</td>\n",
       "      <td>Tops</td>\n",
       "      <td>PACK OF 20 NAPKINS PANTRY DESIGN</td>\n",
       "    </tr>\n",
       "    <tr>\n",
       "      <th>1</th>\n",
       "      <td>576381</td>\n",
       "      <td>2.95</td>\n",
       "      <td>35.40</td>\n",
       "      <td>12</td>\n",
       "      <td>United Kingdom</td>\n",
       "      <td>15/11/11</td>\n",
       "      <td>09:26</td>\n",
       "      <td>2011-11</td>\n",
       "      <td>Clothes</td>\n",
       "      <td>Shoes</td>\n",
       "      <td>NATURAL SLATE HEART CHALKBOARD</td>\n",
       "    </tr>\n",
       "    <tr>\n",
       "      <th>2</th>\n",
       "      <td>551192</td>\n",
       "      <td>1.25</td>\n",
       "      <td>20.00</td>\n",
       "      <td>16</td>\n",
       "      <td>United Kingdom</td>\n",
       "      <td>27/4/11</td>\n",
       "      <td>10:54</td>\n",
       "      <td>2011-04</td>\n",
       "      <td>Kitchen</td>\n",
       "      <td>Cutlery</td>\n",
       "      <td>36 PENCILS TUBE SKULLS</td>\n",
       "    </tr>\n",
       "    <tr>\n",
       "      <th>3</th>\n",
       "      <td>573553</td>\n",
       "      <td>7.46</td>\n",
       "      <td>7.46</td>\n",
       "      <td>1</td>\n",
       "      <td>United Kingdom</td>\n",
       "      <td>31/10/11</td>\n",
       "      <td>13:48</td>\n",
       "      <td>2011-10</td>\n",
       "      <td>Garden</td>\n",
       "      <td>Turf</td>\n",
       "      <td>SET 6 SCHOOL MILK BOTTLES IN CRATE</td>\n",
       "    </tr>\n",
       "    <tr>\n",
       "      <th>4</th>\n",
       "      <td>539436</td>\n",
       "      <td>2.51</td>\n",
       "      <td>2.51</td>\n",
       "      <td>1</td>\n",
       "      <td>United Kingdom</td>\n",
       "      <td>17/12/10</td>\n",
       "      <td>14:49</td>\n",
       "      <td>2010-12</td>\n",
       "      <td>Garden</td>\n",
       "      <td>Hoses</td>\n",
       "      <td>FINE WICKER HEART</td>\n",
       "    </tr>\n",
       "  </tbody>\n",
       "</table>\n",
       "</div>"
      ],
      "text/plain": [
       "   InvoiceNo    UnitPrice  OrderValue  Quantit            Country  \\\n",
       "0       549185       0.85       10.20       12  United Kingdom      \n",
       "1       576381       2.95       35.40       12  United Kingdom      \n",
       "2       551192       1.25       20.00       16  United Kingdom      \n",
       "3       573553       7.46        7.46        1  United Kingdom      \n",
       "4       539436       2.51        2.51        1  United Kingdom      \n",
       "\n",
       "    InvoiceDate  InvoiceTime  Year-Month Major Category  Minor Category  \\\n",
       "0     7/4/11        09:35     2011-04         Clothes              Tops   \n",
       "1   15/11/11        09:26     2011-11         Clothes             Shoes   \n",
       "2    27/4/11        10:54     2011-04         Kitchen           Cutlery   \n",
       "3   31/10/11        13:48     2011-10          Garden              Turf   \n",
       "4   17/12/10        14:49     2010-12          Garden             Hoses   \n",
       "\n",
       "                           Description  \n",
       "0     PACK OF 20 NAPKINS PANTRY DESIGN  \n",
       "1      NATURAL SLATE HEART CHALKBOARD   \n",
       "2               36 PENCILS TUBE SKULLS  \n",
       "3   SET 6 SCHOOL MILK BOTTLES IN CRATE  \n",
       "4                   FINE WICKER HEART   "
      ]
     },
     "execution_count": 2,
     "metadata": {},
     "output_type": "execute_result"
    }
   ],
   "source": [
    "df = pd.read_csv(os.path.join(os.getcwd(),\"ecommerce.csv\"))\n",
    "df.head()"
   ]
  },
  {
   "cell_type": "code",
   "execution_count": 3,
   "id": "a4104c1d",
   "metadata": {},
   "outputs": [
    {
     "data": {
      "text/html": [
       "<div>\n",
       "<style scoped>\n",
       "    .dataframe tbody tr th:only-of-type {\n",
       "        vertical-align: middle;\n",
       "    }\n",
       "\n",
       "    .dataframe tbody tr th {\n",
       "        vertical-align: top;\n",
       "    }\n",
       "\n",
       "    .dataframe thead th {\n",
       "        text-align: right;\n",
       "    }\n",
       "</style>\n",
       "<table border=\"1\" class=\"dataframe\">\n",
       "  <thead>\n",
       "    <tr style=\"text-align: right;\">\n",
       "      <th></th>\n",
       "      <th>InvoiceNo</th>\n",
       "      <th>UnitPrice</th>\n",
       "      <th>OrderValue</th>\n",
       "      <th>Quantit</th>\n",
       "      <th>Country</th>\n",
       "      <th>InvoiceDate</th>\n",
       "      <th>InvoiceTime</th>\n",
       "      <th>Year-Month</th>\n",
       "      <th>Major Category</th>\n",
       "      <th>Minor Category</th>\n",
       "      <th>Description</th>\n",
       "    </tr>\n",
       "  </thead>\n",
       "  <tbody>\n",
       "    <tr>\n",
       "      <th>695</th>\n",
       "      <td>564087</td>\n",
       "      <td>1.25</td>\n",
       "      <td>20.0</td>\n",
       "      <td>16</td>\n",
       "      <td>Hong Kong</td>\n",
       "      <td>23/8/11</td>\n",
       "      <td>09:38</td>\n",
       "      <td>2011-08</td>\n",
       "      <td>Clothes</td>\n",
       "      <td>Tops</td>\n",
       "      <td>WOOD STAMP SET THANK YOU</td>\n",
       "    </tr>\n",
       "    <tr>\n",
       "      <th>696</th>\n",
       "      <td>553148</td>\n",
       "      <td>0.55</td>\n",
       "      <td>13.2</td>\n",
       "      <td>24</td>\n",
       "      <td>Hong Kong</td>\n",
       "      <td>13/5/11</td>\n",
       "      <td>14:09</td>\n",
       "      <td>2011-05</td>\n",
       "      <td>Garden</td>\n",
       "      <td>Hoses</td>\n",
       "      <td>GREEN POLKADOT BOWL</td>\n",
       "    </tr>\n",
       "    <tr>\n",
       "      <th>697</th>\n",
       "      <td>564087</td>\n",
       "      <td>4.95</td>\n",
       "      <td>29.7</td>\n",
       "      <td>6</td>\n",
       "      <td>Hong Kong</td>\n",
       "      <td>23/8/11</td>\n",
       "      <td>09:38</td>\n",
       "      <td>2011-08</td>\n",
       "      <td>Garden</td>\n",
       "      <td>Rakes</td>\n",
       "      <td>TOY TIDY SPACEBOY</td>\n",
       "    </tr>\n",
       "    <tr>\n",
       "      <th>698</th>\n",
       "      <td>553148</td>\n",
       "      <td>0.85</td>\n",
       "      <td>27.2</td>\n",
       "      <td>32</td>\n",
       "      <td>Hong Kong</td>\n",
       "      <td>13/5/11</td>\n",
       "      <td>14:09</td>\n",
       "      <td>2011-05</td>\n",
       "      <td>Kitchen</td>\n",
       "      <td>Cooking Knives</td>\n",
       "      <td>RED RETROSPOT CHILDRENS UMBRELLA</td>\n",
       "    </tr>\n",
       "    <tr>\n",
       "      <th>699</th>\n",
       "      <td>564087</td>\n",
       "      <td>1.25</td>\n",
       "      <td>20.0</td>\n",
       "      <td>16</td>\n",
       "      <td>Hong Kong</td>\n",
       "      <td>23/8/11</td>\n",
       "      <td>09:38</td>\n",
       "      <td>2011-08</td>\n",
       "      <td>Clothes</td>\n",
       "      <td>Tops</td>\n",
       "      <td>PACK OF 60 SPACEBOY CAK</td>\n",
       "    </tr>\n",
       "  </tbody>\n",
       "</table>\n",
       "</div>"
      ],
      "text/plain": [
       "     InvoiceNo  UnitPrice  OrderValue  Quantit            Country  \\\n",
       "695     564087       1.25        20.0       16       Hong Kong      \n",
       "696     553148       0.55        13.2       24       Hong Kong      \n",
       "697     564087       4.95        29.7        6       Hong Kong      \n",
       "698     553148       0.85        27.2       32       Hong Kong      \n",
       "699     564087       1.25        20.0       16       Hong Kong      \n",
       "\n",
       "      InvoiceDate  InvoiceTime  Year-Month Major Category  Minor Category  \\\n",
       "695    23/8/11        09:38     2011-08         Clothes              Tops   \n",
       "696    13/5/11        14:09     2011-05          Garden             Hoses   \n",
       "697    23/8/11        09:38     2011-08          Garden             Rakes   \n",
       "698    13/5/11        14:09     2011-05         Kitchen    Cooking Knives   \n",
       "699    23/8/11        09:38     2011-08         Clothes              Tops   \n",
       "\n",
       "                             Description  \n",
       "695             WOOD STAMP SET THANK YOU  \n",
       "696                  GREEN POLKADOT BOWL  \n",
       "697                  TOY TIDY SPACEBOY    \n",
       "698     RED RETROSPOT CHILDRENS UMBRELLA  \n",
       "699              PACK OF 60 SPACEBOY CAK  "
      ]
     },
     "execution_count": 3,
     "metadata": {},
     "output_type": "execute_result"
    }
   ],
   "source": [
    "## Delete all spaces before and after the column name \n",
    "df.columns = df.columns.str.strip()\n",
    "df.tail()"
   ]
  },
  {
   "cell_type": "code",
   "execution_count": 4,
   "id": "d871ff77",
   "metadata": {},
   "outputs": [
    {
     "name": "stdout",
     "output_type": "stream",
     "text": [
      "<class 'pandas.core.frame.DataFrame'>\n",
      "RangeIndex: 700 entries, 0 to 699\n",
      "Data columns (total 11 columns):\n",
      " #   Column          Non-Null Count  Dtype  \n",
      "---  ------          --------------  -----  \n",
      " 0   InvoiceNo       700 non-null    int64  \n",
      " 1   UnitPrice       700 non-null    float64\n",
      " 2   OrderValue      700 non-null    float64\n",
      " 3   Quantit         700 non-null    int64  \n",
      " 4   Country         700 non-null    object \n",
      " 5   InvoiceDate     700 non-null    object \n",
      " 6   InvoiceTime     700 non-null    object \n",
      " 7   Year-Month      700 non-null    object \n",
      " 8   Major Category  700 non-null    object \n",
      " 9   Minor Category  700 non-null    object \n",
      " 10  Description     700 non-null    object \n",
      "dtypes: float64(2), int64(2), object(7)\n",
      "memory usage: 60.3+ KB\n"
     ]
    }
   ],
   "source": [
    "df.info()"
   ]
  },
  {
   "cell_type": "code",
   "execution_count": 5,
   "id": "9d39cf0e",
   "metadata": {},
   "outputs": [],
   "source": [
    "## Year-Month,InvoiceDate must be converted to DateTime datetype \n",
    "df[\"Year-Month\"] = pd.to_datetime(df[\"Year-Month\"])\n",
    "df['InvoiceDate'] = pd.to_datetime(df['InvoiceDate'])"
   ]
  },
  {
   "cell_type": "code",
   "execution_count": 6,
   "id": "b7388468",
   "metadata": {},
   "outputs": [
    {
     "name": "stdout",
     "output_type": "stream",
     "text": [
      "Number of NULL values : 0\n",
      "Number of duplicated values : 0\n"
     ]
    }
   ],
   "source": [
    "print(f\"Number of NULL values : {df.isna().any().sum()}\")\n",
    "print(f\"Number of duplicated values : {df.duplicated().sum()}\")"
   ]
  },
  {
   "cell_type": "markdown",
   "id": "479b4b22",
   "metadata": {},
   "source": [
    "##### `There are no missing values and duplicated values`"
   ]
  },
  {
   "cell_type": "code",
   "execution_count": 7,
   "id": "6c468295",
   "metadata": {},
   "outputs": [
    {
     "name": "stdout",
     "output_type": "stream",
     "text": [
      "<class 'pandas.core.frame.DataFrame'>\n",
      "RangeIndex: 700 entries, 0 to 699\n",
      "Data columns (total 11 columns):\n",
      " #   Column          Non-Null Count  Dtype         \n",
      "---  ------          --------------  -----         \n",
      " 0   InvoiceNo       700 non-null    int64         \n",
      " 1   UnitPrice       700 non-null    float64       \n",
      " 2   OrderValue      700 non-null    float64       \n",
      " 3   Quantit         700 non-null    int64         \n",
      " 4   Country         700 non-null    object        \n",
      " 5   InvoiceDate     700 non-null    datetime64[ns]\n",
      " 6   InvoiceTime     700 non-null    object        \n",
      " 7   Year-Month      700 non-null    datetime64[ns]\n",
      " 8   Major Category  700 non-null    object        \n",
      " 9   Minor Category  700 non-null    object        \n",
      " 10  Description     700 non-null    object        \n",
      "dtypes: datetime64[ns](2), float64(2), int64(2), object(5)\n",
      "memory usage: 60.3+ KB\n"
     ]
    }
   ],
   "source": [
    "df.info()"
   ]
  },
  {
   "cell_type": "markdown",
   "id": "530d431f",
   "metadata": {},
   "source": [
    "### 1- What are the total Order value for each country ?"
   ]
  },
  {
   "cell_type": "code",
   "execution_count": 8,
   "id": "29537712",
   "metadata": {},
   "outputs": [
    {
     "data": {
      "text/html": [
       "<div>\n",
       "<style scoped>\n",
       "    .dataframe tbody tr th:only-of-type {\n",
       "        vertical-align: middle;\n",
       "    }\n",
       "\n",
       "    .dataframe tbody tr th {\n",
       "        vertical-align: top;\n",
       "    }\n",
       "\n",
       "    .dataframe thead th {\n",
       "        text-align: right;\n",
       "    }\n",
       "</style>\n",
       "<table border=\"1\" class=\"dataframe\">\n",
       "  <thead>\n",
       "    <tr style=\"text-align: right;\">\n",
       "      <th></th>\n",
       "      <th>Country</th>\n",
       "      <th>OrderValue</th>\n",
       "    </tr>\n",
       "  </thead>\n",
       "  <tbody>\n",
       "    <tr>\n",
       "      <th>0</th>\n",
       "      <td>Australia</td>\n",
       "      <td>6349.89</td>\n",
       "    </tr>\n",
       "    <tr>\n",
       "      <th>1</th>\n",
       "      <td>France</td>\n",
       "      <td>5638.16</td>\n",
       "    </tr>\n",
       "    <tr>\n",
       "      <th>2</th>\n",
       "      <td>United Kingdom</td>\n",
       "      <td>5582.93</td>\n",
       "    </tr>\n",
       "    <tr>\n",
       "      <th>3</th>\n",
       "      <td>Germany</td>\n",
       "      <td>3153.71</td>\n",
       "    </tr>\n",
       "    <tr>\n",
       "      <th>4</th>\n",
       "      <td>Hong Kong</td>\n",
       "      <td>1660.24</td>\n",
       "    </tr>\n",
       "  </tbody>\n",
       "</table>\n",
       "</div>"
      ],
      "text/plain": [
       "             Country  OrderValue\n",
       "0       Australia        6349.89\n",
       "1          France        5638.16\n",
       "2  United Kingdom        5582.93\n",
       "3         Germany        3153.71\n",
       "4       Hong Kong        1660.24"
      ]
     },
     "execution_count": 8,
     "metadata": {},
     "output_type": "execute_result"
    }
   ],
   "source": [
    "df.groupby(\"Country\")[[\"OrderValue\"]].sum().sort_values(by=\"OrderValue\", ascending=False).reset_index()"
   ]
  },
  {
   "cell_type": "markdown",
   "id": "9d671461",
   "metadata": {},
   "source": [
    "### 2- What each Major Category sold quantity during November 2011?"
   ]
  },
  {
   "cell_type": "code",
   "execution_count": 9,
   "id": "1a00c7bc",
   "metadata": {},
   "outputs": [
    {
     "data": {
      "text/html": [
       "<div>\n",
       "<style scoped>\n",
       "    .dataframe tbody tr th:only-of-type {\n",
       "        vertical-align: middle;\n",
       "    }\n",
       "\n",
       "    .dataframe tbody tr th {\n",
       "        vertical-align: top;\n",
       "    }\n",
       "\n",
       "    .dataframe thead th {\n",
       "        text-align: right;\n",
       "    }\n",
       "</style>\n",
       "<table border=\"1\" class=\"dataframe\">\n",
       "  <thead>\n",
       "    <tr style=\"text-align: right;\">\n",
       "      <th></th>\n",
       "      <th>Major Category</th>\n",
       "      <th>Quantit</th>\n",
       "    </tr>\n",
       "  </thead>\n",
       "  <tbody>\n",
       "    <tr>\n",
       "      <th>0</th>\n",
       "      <td>Household</td>\n",
       "      <td>246</td>\n",
       "    </tr>\n",
       "    <tr>\n",
       "      <th>1</th>\n",
       "      <td>Clothes</td>\n",
       "      <td>280</td>\n",
       "    </tr>\n",
       "    <tr>\n",
       "      <th>2</th>\n",
       "      <td>Garden</td>\n",
       "      <td>449</td>\n",
       "    </tr>\n",
       "    <tr>\n",
       "      <th>3</th>\n",
       "      <td>Kitchen</td>\n",
       "      <td>538</td>\n",
       "    </tr>\n",
       "  </tbody>\n",
       "</table>\n",
       "</div>"
      ],
      "text/plain": [
       "  Major Category  Quantit\n",
       "0    Household        246\n",
       "1      Clothes        280\n",
       "2       Garden        449\n",
       "3      Kitchen        538"
      ]
     },
     "execution_count": 9,
     "metadata": {},
     "output_type": "execute_result"
    }
   ],
   "source": [
    "df_november_2011 = df[df[\"Year-Month\"]==\"2011-11\"]\n",
    "df_november_2011.groupby(\"Major Category\")[[\"Quantit\"]].sum().sort_values(by=\"Quantit\",ascending=True).reset_index()"
   ]
  },
  {
   "cell_type": "markdown",
   "id": "42c6432b",
   "metadata": {
    "scrolled": true
   },
   "source": [
    "### 3- What's Total Order Value for each Minor Item in Kitchen?\n"
   ]
  },
  {
   "cell_type": "code",
   "execution_count": 10,
   "id": "222ac923",
   "metadata": {},
   "outputs": [
    {
     "data": {
      "text/html": [
       "<div>\n",
       "<style scoped>\n",
       "    .dataframe tbody tr th:only-of-type {\n",
       "        vertical-align: middle;\n",
       "    }\n",
       "\n",
       "    .dataframe tbody tr th {\n",
       "        vertical-align: top;\n",
       "    }\n",
       "\n",
       "    .dataframe thead th {\n",
       "        text-align: right;\n",
       "    }\n",
       "</style>\n",
       "<table border=\"1\" class=\"dataframe\">\n",
       "  <thead>\n",
       "    <tr style=\"text-align: right;\">\n",
       "      <th></th>\n",
       "      <th>Minor Category</th>\n",
       "      <th>OrderValue</th>\n",
       "    </tr>\n",
       "  </thead>\n",
       "  <tbody>\n",
       "    <tr>\n",
       "      <th>0</th>\n",
       "      <td>Coasters</td>\n",
       "      <td>324.30</td>\n",
       "    </tr>\n",
       "    <tr>\n",
       "      <th>1</th>\n",
       "      <td>Cutlery</td>\n",
       "      <td>960.29</td>\n",
       "    </tr>\n",
       "    <tr>\n",
       "      <th>2</th>\n",
       "      <td>Cooking Knives</td>\n",
       "      <td>1055.46</td>\n",
       "    </tr>\n",
       "    <tr>\n",
       "      <th>3</th>\n",
       "      <td>Plates</td>\n",
       "      <td>1148.67</td>\n",
       "    </tr>\n",
       "    <tr>\n",
       "      <th>4</th>\n",
       "      <td>Bowls</td>\n",
       "      <td>1227.39</td>\n",
       "    </tr>\n",
       "    <tr>\n",
       "      <th>5</th>\n",
       "      <td>Scales</td>\n",
       "      <td>1691.79</td>\n",
       "    </tr>\n",
       "  </tbody>\n",
       "</table>\n",
       "</div>"
      ],
      "text/plain": [
       "   Minor Category  OrderValue\n",
       "0        Coasters      324.30\n",
       "1         Cutlery      960.29\n",
       "2  Cooking Knives     1055.46\n",
       "3          Plates     1148.67\n",
       "4           Bowls     1227.39\n",
       "5          Scales     1691.79"
      ]
     },
     "execution_count": 10,
     "metadata": {},
     "output_type": "execute_result"
    }
   ],
   "source": [
    "df_kitchen = df.groupby([\"Major Category\",\"Minor Category\"])[[\"OrderValue\"]].sum() \\\n",
    "                                                                            .reset_index() \\\n",
    "                                                                            .loc[7:12,[\"Minor Category\",\"OrderValue\"]]\n",
    "df_kitchen.sort_values(by=\"OrderValue\").reset_index(drop=True)"
   ]
  },
  {
   "cell_type": "markdown",
   "id": "594461f6",
   "metadata": {},
   "source": [
    "##### `Note` : The value of orders minimun in the products \"Coasters\"  , The value of orders maximum in the products \"Scales\""
   ]
  },
  {
   "cell_type": "markdown",
   "id": "67f17595",
   "metadata": {},
   "source": [
    "### 4- What Month/s contributes to high demand in orders ?\n"
   ]
  },
  {
   "cell_type": "code",
   "execution_count": 11,
   "id": "125024c5",
   "metadata": {},
   "outputs": [
    {
     "data": {
      "text/html": [
       "<div>\n",
       "<style scoped>\n",
       "    .dataframe tbody tr th:only-of-type {\n",
       "        vertical-align: middle;\n",
       "    }\n",
       "\n",
       "    .dataframe tbody tr th {\n",
       "        vertical-align: top;\n",
       "    }\n",
       "\n",
       "    .dataframe thead th {\n",
       "        text-align: right;\n",
       "    }\n",
       "</style>\n",
       "<table border=\"1\" class=\"dataframe\">\n",
       "  <thead>\n",
       "    <tr style=\"text-align: right;\">\n",
       "      <th></th>\n",
       "      <th>Year-Month</th>\n",
       "      <th>Quantit</th>\n",
       "    </tr>\n",
       "  </thead>\n",
       "  <tbody>\n",
       "    <tr>\n",
       "      <th>0</th>\n",
       "      <td>2011-09</td>\n",
       "      <td>2002</td>\n",
       "    </tr>\n",
       "    <tr>\n",
       "      <th>1</th>\n",
       "      <td>2011-06</td>\n",
       "      <td>1733</td>\n",
       "    </tr>\n",
       "    <tr>\n",
       "      <th>2</th>\n",
       "      <td>2011-05</td>\n",
       "      <td>1668</td>\n",
       "    </tr>\n",
       "    <tr>\n",
       "      <th>3</th>\n",
       "      <td>2011-03</td>\n",
       "      <td>1660</td>\n",
       "    </tr>\n",
       "    <tr>\n",
       "      <th>4</th>\n",
       "      <td>2011-11</td>\n",
       "      <td>1513</td>\n",
       "    </tr>\n",
       "    <tr>\n",
       "      <th>5</th>\n",
       "      <td>2011-08</td>\n",
       "      <td>1251</td>\n",
       "    </tr>\n",
       "    <tr>\n",
       "      <th>6</th>\n",
       "      <td>2011-01</td>\n",
       "      <td>1184</td>\n",
       "    </tr>\n",
       "    <tr>\n",
       "      <th>7</th>\n",
       "      <td>2011-02</td>\n",
       "      <td>1132</td>\n",
       "    </tr>\n",
       "    <tr>\n",
       "      <th>8</th>\n",
       "      <td>2011-07</td>\n",
       "      <td>987</td>\n",
       "    </tr>\n",
       "    <tr>\n",
       "      <th>9</th>\n",
       "      <td>2011-10</td>\n",
       "      <td>693</td>\n",
       "    </tr>\n",
       "    <tr>\n",
       "      <th>10</th>\n",
       "      <td>2010-12</td>\n",
       "      <td>397</td>\n",
       "    </tr>\n",
       "    <tr>\n",
       "      <th>11</th>\n",
       "      <td>2011-12</td>\n",
       "      <td>201</td>\n",
       "    </tr>\n",
       "    <tr>\n",
       "      <th>12</th>\n",
       "      <td>2011-04</td>\n",
       "      <td>185</td>\n",
       "    </tr>\n",
       "  </tbody>\n",
       "</table>\n",
       "</div>"
      ],
      "text/plain": [
       "   Year-Month  Quantit\n",
       "0     2011-09     2002\n",
       "1     2011-06     1733\n",
       "2     2011-05     1668\n",
       "3     2011-03     1660\n",
       "4     2011-11     1513\n",
       "5     2011-08     1251\n",
       "6     2011-01     1184\n",
       "7     2011-02     1132\n",
       "8     2011-07      987\n",
       "9     2011-10      693\n",
       "10    2010-12      397\n",
       "11    2011-12      201\n",
       "12    2011-04      185"
      ]
     },
     "execution_count": 11,
     "metadata": {},
     "output_type": "execute_result"
    }
   ],
   "source": [
    "df[\"Year-Month\"] = df[\"Year-Month\"].dt.strftime('%Y-%m')\n",
    "df.groupby(\"Year-Month\")[[\"Quantit\"]].sum().sort_values(by=\"Quantit\",ascending=False).reset_index()"
   ]
  },
  {
   "cell_type": "markdown",
   "id": "57a60045",
   "metadata": {},
   "source": [
    "##### in `September` month is high demand in orders ."
   ]
  },
  {
   "cell_type": "markdown",
   "id": "0ea6be82",
   "metadata": {},
   "source": [
    "### 5- What Month/s contributes to high OrderValue?\n"
   ]
  },
  {
   "cell_type": "code",
   "execution_count": 12,
   "id": "6ab123de",
   "metadata": {},
   "outputs": [
    {
     "data": {
      "text/html": [
       "<div>\n",
       "<style scoped>\n",
       "    .dataframe tbody tr th:only-of-type {\n",
       "        vertical-align: middle;\n",
       "    }\n",
       "\n",
       "    .dataframe tbody tr th {\n",
       "        vertical-align: top;\n",
       "    }\n",
       "\n",
       "    .dataframe thead th {\n",
       "        text-align: right;\n",
       "    }\n",
       "</style>\n",
       "<table border=\"1\" class=\"dataframe\">\n",
       "  <thead>\n",
       "    <tr style=\"text-align: right;\">\n",
       "      <th></th>\n",
       "      <th>Year-Month</th>\n",
       "      <th>OrderValue</th>\n",
       "    </tr>\n",
       "  </thead>\n",
       "  <tbody>\n",
       "    <tr>\n",
       "      <th>0</th>\n",
       "      <td>2011-11</td>\n",
       "      <td>2553.74</td>\n",
       "    </tr>\n",
       "    <tr>\n",
       "      <th>1</th>\n",
       "      <td>2011-05</td>\n",
       "      <td>2394.34</td>\n",
       "    </tr>\n",
       "    <tr>\n",
       "      <th>2</th>\n",
       "      <td>2011-09</td>\n",
       "      <td>2339.75</td>\n",
       "    </tr>\n",
       "    <tr>\n",
       "      <th>3</th>\n",
       "      <td>2011-08</td>\n",
       "      <td>2327.19</td>\n",
       "    </tr>\n",
       "    <tr>\n",
       "      <th>4</th>\n",
       "      <td>2011-03</td>\n",
       "      <td>2324.19</td>\n",
       "    </tr>\n",
       "    <tr>\n",
       "      <th>5</th>\n",
       "      <td>2011-01</td>\n",
       "      <td>2080.25</td>\n",
       "    </tr>\n",
       "    <tr>\n",
       "      <th>6</th>\n",
       "      <td>2011-06</td>\n",
       "      <td>1878.89</td>\n",
       "    </tr>\n",
       "    <tr>\n",
       "      <th>7</th>\n",
       "      <td>2011-02</td>\n",
       "      <td>1758.76</td>\n",
       "    </tr>\n",
       "    <tr>\n",
       "      <th>8</th>\n",
       "      <td>2011-07</td>\n",
       "      <td>1562.23</td>\n",
       "    </tr>\n",
       "    <tr>\n",
       "      <th>9</th>\n",
       "      <td>2011-10</td>\n",
       "      <td>1382.54</td>\n",
       "    </tr>\n",
       "    <tr>\n",
       "      <th>10</th>\n",
       "      <td>2010-12</td>\n",
       "      <td>795.34</td>\n",
       "    </tr>\n",
       "    <tr>\n",
       "      <th>11</th>\n",
       "      <td>2011-04</td>\n",
       "      <td>588.83</td>\n",
       "    </tr>\n",
       "    <tr>\n",
       "      <th>12</th>\n",
       "      <td>2011-12</td>\n",
       "      <td>398.88</td>\n",
       "    </tr>\n",
       "  </tbody>\n",
       "</table>\n",
       "</div>"
      ],
      "text/plain": [
       "   Year-Month  OrderValue\n",
       "0     2011-11     2553.74\n",
       "1     2011-05     2394.34\n",
       "2     2011-09     2339.75\n",
       "3     2011-08     2327.19\n",
       "4     2011-03     2324.19\n",
       "5     2011-01     2080.25\n",
       "6     2011-06     1878.89\n",
       "7     2011-02     1758.76\n",
       "8     2011-07     1562.23\n",
       "9     2011-10     1382.54\n",
       "10    2010-12      795.34\n",
       "11    2011-04      588.83\n",
       "12    2011-12      398.88"
      ]
     },
     "execution_count": 12,
     "metadata": {},
     "output_type": "execute_result"
    }
   ],
   "source": [
    "df.groupby((\"Year-Month\"))[[\"OrderValue\"]].sum().sort_values(by=\"OrderValue\",ascending=False).reset_index()"
   ]
  },
  {
   "cell_type": "markdown",
   "id": "fbbb0d1a",
   "metadata": {},
   "source": [
    "##### `In November 2011, with a value of 2553.74`"
   ]
  },
  {
   "cell_type": "markdown",
   "id": "a5bf1956",
   "metadata": {},
   "source": [
    "### 6- Why April and December suffer from low sales?"
   ]
  },
  {
   "cell_type": "code",
   "execution_count": 13,
   "id": "9311082e",
   "metadata": {},
   "outputs": [
    {
     "data": {
      "text/html": [
       "<div>\n",
       "<style scoped>\n",
       "    .dataframe tbody tr th:only-of-type {\n",
       "        vertical-align: middle;\n",
       "    }\n",
       "\n",
       "    .dataframe tbody tr th {\n",
       "        vertical-align: top;\n",
       "    }\n",
       "\n",
       "    .dataframe thead th {\n",
       "        text-align: right;\n",
       "    }\n",
       "</style>\n",
       "<table border=\"1\" class=\"dataframe\">\n",
       "  <thead>\n",
       "    <tr style=\"text-align: right;\">\n",
       "      <th></th>\n",
       "      <th>month_name</th>\n",
       "      <th>Quantit</th>\n",
       "      <th>OrderValue</th>\n",
       "    </tr>\n",
       "  </thead>\n",
       "  <tbody>\n",
       "    <tr>\n",
       "      <th>0</th>\n",
       "      <td>April</td>\n",
       "      <td>1</td>\n",
       "      <td>240.51</td>\n",
       "    </tr>\n",
       "    <tr>\n",
       "      <th>1</th>\n",
       "      <td>April</td>\n",
       "      <td>2</td>\n",
       "      <td>19.20</td>\n",
       "    </tr>\n",
       "    <tr>\n",
       "      <th>2</th>\n",
       "      <td>April</td>\n",
       "      <td>4</td>\n",
       "      <td>59.20</td>\n",
       "    </tr>\n",
       "    <tr>\n",
       "      <th>3</th>\n",
       "      <td>April</td>\n",
       "      <td>6</td>\n",
       "      <td>22.80</td>\n",
       "    </tr>\n",
       "    <tr>\n",
       "      <th>4</th>\n",
       "      <td>April</td>\n",
       "      <td>8</td>\n",
       "      <td>29.12</td>\n",
       "    </tr>\n",
       "    <tr>\n",
       "      <th>5</th>\n",
       "      <td>April</td>\n",
       "      <td>10</td>\n",
       "      <td>49.80</td>\n",
       "    </tr>\n",
       "    <tr>\n",
       "      <th>6</th>\n",
       "      <td>April</td>\n",
       "      <td>12</td>\n",
       "      <td>113.40</td>\n",
       "    </tr>\n",
       "    <tr>\n",
       "      <th>7</th>\n",
       "      <td>April</td>\n",
       "      <td>16</td>\n",
       "      <td>20.00</td>\n",
       "    </tr>\n",
       "    <tr>\n",
       "      <th>8</th>\n",
       "      <td>April</td>\n",
       "      <td>24</td>\n",
       "      <td>34.80</td>\n",
       "    </tr>\n",
       "    <tr>\n",
       "      <th>9</th>\n",
       "      <td>December</td>\n",
       "      <td>1</td>\n",
       "      <td>122.20</td>\n",
       "    </tr>\n",
       "    <tr>\n",
       "      <th>10</th>\n",
       "      <td>December</td>\n",
       "      <td>2</td>\n",
       "      <td>62.54</td>\n",
       "    </tr>\n",
       "    <tr>\n",
       "      <th>11</th>\n",
       "      <td>December</td>\n",
       "      <td>3</td>\n",
       "      <td>70.23</td>\n",
       "    </tr>\n",
       "    <tr>\n",
       "      <th>12</th>\n",
       "      <td>December</td>\n",
       "      <td>4</td>\n",
       "      <td>133.28</td>\n",
       "    </tr>\n",
       "    <tr>\n",
       "      <th>13</th>\n",
       "      <td>December</td>\n",
       "      <td>6</td>\n",
       "      <td>137.40</td>\n",
       "    </tr>\n",
       "    <tr>\n",
       "      <th>14</th>\n",
       "      <td>December</td>\n",
       "      <td>7</td>\n",
       "      <td>44.03</td>\n",
       "    </tr>\n",
       "    <tr>\n",
       "      <th>15</th>\n",
       "      <td>December</td>\n",
       "      <td>8</td>\n",
       "      <td>70.40</td>\n",
       "    </tr>\n",
       "    <tr>\n",
       "      <th>16</th>\n",
       "      <td>December</td>\n",
       "      <td>10</td>\n",
       "      <td>20.80</td>\n",
       "    </tr>\n",
       "    <tr>\n",
       "      <th>17</th>\n",
       "      <td>December</td>\n",
       "      <td>12</td>\n",
       "      <td>134.52</td>\n",
       "    </tr>\n",
       "    <tr>\n",
       "      <th>18</th>\n",
       "      <td>December</td>\n",
       "      <td>20</td>\n",
       "      <td>33.40</td>\n",
       "    </tr>\n",
       "    <tr>\n",
       "      <th>19</th>\n",
       "      <td>December</td>\n",
       "      <td>24</td>\n",
       "      <td>136.32</td>\n",
       "    </tr>\n",
       "    <tr>\n",
       "      <th>20</th>\n",
       "      <td>December</td>\n",
       "      <td>50</td>\n",
       "      <td>147.50</td>\n",
       "    </tr>\n",
       "    <tr>\n",
       "      <th>21</th>\n",
       "      <td>December</td>\n",
       "      <td>96</td>\n",
       "      <td>81.60</td>\n",
       "    </tr>\n",
       "  </tbody>\n",
       "</table>\n",
       "</div>"
      ],
      "text/plain": [
       "   month_name  Quantit  OrderValue\n",
       "0       April        1      240.51\n",
       "1       April        2       19.20\n",
       "2       April        4       59.20\n",
       "3       April        6       22.80\n",
       "4       April        8       29.12\n",
       "5       April       10       49.80\n",
       "6       April       12      113.40\n",
       "7       April       16       20.00\n",
       "8       April       24       34.80\n",
       "9    December        1      122.20\n",
       "10   December        2       62.54\n",
       "11   December        3       70.23\n",
       "12   December        4      133.28\n",
       "13   December        6      137.40\n",
       "14   December        7       44.03\n",
       "15   December        8       70.40\n",
       "16   December       10       20.80\n",
       "17   December       12      134.52\n",
       "18   December       20       33.40\n",
       "19   December       24      136.32\n",
       "20   December       50      147.50\n",
       "21   December       96       81.60"
      ]
     },
     "execution_count": 13,
     "metadata": {},
     "output_type": "execute_result"
    }
   ],
   "source": [
    "df[\"month_name\"] = pd.to_datetime(df[\"Year-Month\"]).dt.month_name()\n",
    "df_april_dec = df[(df[\"month_name\"] == \"April\") | (df[\"month_name\"] == \"December\")] \n",
    "df_april_dec.groupby([\"month_name\",\"Quantit\"])[[\"OrderValue\"]].sum()\\\n",
    "                                                            .reset_index()"
   ]
  },
  {
   "cell_type": "code",
   "execution_count": 14,
   "id": "235de65e",
   "metadata": {},
   "outputs": [
    {
     "data": {
      "text/html": [
       "<div>\n",
       "<style scoped>\n",
       "    .dataframe tbody tr th:only-of-type {\n",
       "        vertical-align: middle;\n",
       "    }\n",
       "\n",
       "    .dataframe tbody tr th {\n",
       "        vertical-align: top;\n",
       "    }\n",
       "\n",
       "    .dataframe thead th {\n",
       "        text-align: right;\n",
       "    }\n",
       "</style>\n",
       "<table border=\"1\" class=\"dataframe\">\n",
       "  <thead>\n",
       "    <tr style=\"text-align: right;\">\n",
       "      <th></th>\n",
       "      <th>Year-Month</th>\n",
       "      <th>Major Category</th>\n",
       "      <th>Minor Category</th>\n",
       "      <th>Country</th>\n",
       "      <th>OrderValue</th>\n",
       "    </tr>\n",
       "  </thead>\n",
       "  <tbody>\n",
       "    <tr>\n",
       "      <th>0</th>\n",
       "      <td>2010-12</td>\n",
       "      <td>Garden</td>\n",
       "      <td>Hoses</td>\n",
       "      <td>United Kingdom</td>\n",
       "      <td>6.75</td>\n",
       "    </tr>\n",
       "    <tr>\n",
       "      <th>1</th>\n",
       "      <td>2010-12</td>\n",
       "      <td>Garden</td>\n",
       "      <td>Rakes</td>\n",
       "      <td>France</td>\n",
       "      <td>10.08</td>\n",
       "    </tr>\n",
       "    <tr>\n",
       "      <th>2</th>\n",
       "      <td>2010-12</td>\n",
       "      <td>Garden</td>\n",
       "      <td>Rakes</td>\n",
       "      <td>United Kingdom</td>\n",
       "      <td>30.90</td>\n",
       "    </tr>\n",
       "    <tr>\n",
       "      <th>3</th>\n",
       "      <td>2010-12</td>\n",
       "      <td>Garden</td>\n",
       "      <td>Seeds</td>\n",
       "      <td>United Kingdom</td>\n",
       "      <td>4.95</td>\n",
       "    </tr>\n",
       "    <tr>\n",
       "      <th>4</th>\n",
       "      <td>2010-12</td>\n",
       "      <td>Clothes</td>\n",
       "      <td>Hats</td>\n",
       "      <td>United Kingdom</td>\n",
       "      <td>35.12</td>\n",
       "    </tr>\n",
       "    <tr>\n",
       "      <th>...</th>\n",
       "      <td>...</td>\n",
       "      <td>...</td>\n",
       "      <td>...</td>\n",
       "      <td>...</td>\n",
       "      <td>...</td>\n",
       "    </tr>\n",
       "    <tr>\n",
       "      <th>61</th>\n",
       "      <td>2011-12</td>\n",
       "      <td>Household</td>\n",
       "      <td>Rugs</td>\n",
       "      <td>Germany</td>\n",
       "      <td>55.08</td>\n",
       "    </tr>\n",
       "    <tr>\n",
       "      <th>62</th>\n",
       "      <td>2011-12</td>\n",
       "      <td>Household</td>\n",
       "      <td>Lamps</td>\n",
       "      <td>United Kingdom</td>\n",
       "      <td>8.97</td>\n",
       "    </tr>\n",
       "    <tr>\n",
       "      <th>63</th>\n",
       "      <td>2011-12</td>\n",
       "      <td>Household</td>\n",
       "      <td>Chairs</td>\n",
       "      <td>France</td>\n",
       "      <td>16.60</td>\n",
       "    </tr>\n",
       "    <tr>\n",
       "      <th>64</th>\n",
       "      <td>2011-12</td>\n",
       "      <td>Household</td>\n",
       "      <td>Chairs</td>\n",
       "      <td>United Kingdom</td>\n",
       "      <td>20.80</td>\n",
       "    </tr>\n",
       "    <tr>\n",
       "      <th>65</th>\n",
       "      <td>2011-12</td>\n",
       "      <td>Household</td>\n",
       "      <td>Curtains</td>\n",
       "      <td>United Kingdom</td>\n",
       "      <td>21.00</td>\n",
       "    </tr>\n",
       "  </tbody>\n",
       "</table>\n",
       "<p>66 rows × 5 columns</p>\n",
       "</div>"
      ],
      "text/plain": [
       "   Year-Month Major Category  Minor Category            Country  OrderValue\n",
       "0     2010-12       Garden             Hoses  United Kingdom           6.75\n",
       "1     2010-12       Garden             Rakes          France          10.08\n",
       "2     2010-12       Garden             Rakes  United Kingdom          30.90\n",
       "3     2010-12       Garden             Seeds  United Kingdom           4.95\n",
       "4     2010-12      Clothes              Hats  United Kingdom          35.12\n",
       "..        ...            ...             ...                ...         ...\n",
       "61    2011-12    Household              Rugs         Germany          55.08\n",
       "62    2011-12    Household             Lamps  United Kingdom           8.97\n",
       "63    2011-12    Household            Chairs          France          16.60\n",
       "64    2011-12    Household            Chairs  United Kingdom          20.80\n",
       "65    2011-12    Household          Curtains  United Kingdom          21.00\n",
       "\n",
       "[66 rows x 5 columns]"
      ]
     },
     "execution_count": 14,
     "metadata": {},
     "output_type": "execute_result"
    }
   ],
   "source": [
    "df_april_dec.groupby([\"Year-Month\",\"Major Category\",\"Minor Category\",\"Country\"])[[\"OrderValue\"]].sum().reset_index()"
   ]
  },
  {
   "cell_type": "markdown",
   "id": "a2b01748",
   "metadata": {},
   "source": [
    "### 7- Why May and November have high sales? \n"
   ]
  },
  {
   "cell_type": "code",
   "execution_count": 15,
   "id": "1eda2bac",
   "metadata": {},
   "outputs": [
    {
     "data": {
      "text/html": [
       "<div>\n",
       "<style scoped>\n",
       "    .dataframe tbody tr th:only-of-type {\n",
       "        vertical-align: middle;\n",
       "    }\n",
       "\n",
       "    .dataframe tbody tr th {\n",
       "        vertical-align: top;\n",
       "    }\n",
       "\n",
       "    .dataframe thead th {\n",
       "        text-align: right;\n",
       "    }\n",
       "</style>\n",
       "<table border=\"1\" class=\"dataframe\">\n",
       "  <thead>\n",
       "    <tr style=\"text-align: right;\">\n",
       "      <th></th>\n",
       "      <th>month_name</th>\n",
       "      <th>Quantit</th>\n",
       "      <th>OrderValue</th>\n",
       "    </tr>\n",
       "  </thead>\n",
       "  <tbody>\n",
       "    <tr>\n",
       "      <th>0</th>\n",
       "      <td>May</td>\n",
       "      <td>1</td>\n",
       "      <td>11.37</td>\n",
       "    </tr>\n",
       "    <tr>\n",
       "      <th>1</th>\n",
       "      <td>May</td>\n",
       "      <td>2</td>\n",
       "      <td>89.94</td>\n",
       "    </tr>\n",
       "    <tr>\n",
       "      <th>2</th>\n",
       "      <td>May</td>\n",
       "      <td>3</td>\n",
       "      <td>17.85</td>\n",
       "    </tr>\n",
       "    <tr>\n",
       "      <th>3</th>\n",
       "      <td>May</td>\n",
       "      <td>4</td>\n",
       "      <td>96.44</td>\n",
       "    </tr>\n",
       "    <tr>\n",
       "      <th>4</th>\n",
       "      <td>May</td>\n",
       "      <td>6</td>\n",
       "      <td>224.40</td>\n",
       "    </tr>\n",
       "    <tr>\n",
       "      <th>5</th>\n",
       "      <td>May</td>\n",
       "      <td>8</td>\n",
       "      <td>175.60</td>\n",
       "    </tr>\n",
       "    <tr>\n",
       "      <th>6</th>\n",
       "      <td>May</td>\n",
       "      <td>10</td>\n",
       "      <td>221.50</td>\n",
       "    </tr>\n",
       "    <tr>\n",
       "      <th>7</th>\n",
       "      <td>May</td>\n",
       "      <td>12</td>\n",
       "      <td>134.04</td>\n",
       "    </tr>\n",
       "    <tr>\n",
       "      <th>8</th>\n",
       "      <td>May</td>\n",
       "      <td>14</td>\n",
       "      <td>69.44</td>\n",
       "    </tr>\n",
       "    <tr>\n",
       "      <th>9</th>\n",
       "      <td>May</td>\n",
       "      <td>20</td>\n",
       "      <td>42.00</td>\n",
       "    </tr>\n",
       "    <tr>\n",
       "      <th>10</th>\n",
       "      <td>May</td>\n",
       "      <td>24</td>\n",
       "      <td>115.68</td>\n",
       "    </tr>\n",
       "    <tr>\n",
       "      <th>11</th>\n",
       "      <td>May</td>\n",
       "      <td>30</td>\n",
       "      <td>63.00</td>\n",
       "    </tr>\n",
       "    <tr>\n",
       "      <th>12</th>\n",
       "      <td>May</td>\n",
       "      <td>32</td>\n",
       "      <td>54.40</td>\n",
       "    </tr>\n",
       "    <tr>\n",
       "      <th>13</th>\n",
       "      <td>May</td>\n",
       "      <td>36</td>\n",
       "      <td>178.20</td>\n",
       "    </tr>\n",
       "    <tr>\n",
       "      <th>14</th>\n",
       "      <td>May</td>\n",
       "      <td>48</td>\n",
       "      <td>110.40</td>\n",
       "    </tr>\n",
       "    <tr>\n",
       "      <th>15</th>\n",
       "      <td>May</td>\n",
       "      <td>60</td>\n",
       "      <td>126.00</td>\n",
       "    </tr>\n",
       "    <tr>\n",
       "      <th>16</th>\n",
       "      <td>May</td>\n",
       "      <td>96</td>\n",
       "      <td>36.48</td>\n",
       "    </tr>\n",
       "    <tr>\n",
       "      <th>17</th>\n",
       "      <td>May</td>\n",
       "      <td>144</td>\n",
       "      <td>237.60</td>\n",
       "    </tr>\n",
       "    <tr>\n",
       "      <th>18</th>\n",
       "      <td>May</td>\n",
       "      <td>600</td>\n",
       "      <td>390.00</td>\n",
       "    </tr>\n",
       "    <tr>\n",
       "      <th>19</th>\n",
       "      <td>November</td>\n",
       "      <td>1</td>\n",
       "      <td>78.07</td>\n",
       "    </tr>\n",
       "    <tr>\n",
       "      <th>20</th>\n",
       "      <td>November</td>\n",
       "      <td>2</td>\n",
       "      <td>67.18</td>\n",
       "    </tr>\n",
       "    <tr>\n",
       "      <th>21</th>\n",
       "      <td>November</td>\n",
       "      <td>3</td>\n",
       "      <td>45.33</td>\n",
       "    </tr>\n",
       "    <tr>\n",
       "      <th>22</th>\n",
       "      <td>November</td>\n",
       "      <td>4</td>\n",
       "      <td>222.40</td>\n",
       "    </tr>\n",
       "    <tr>\n",
       "      <th>23</th>\n",
       "      <td>November</td>\n",
       "      <td>5</td>\n",
       "      <td>1.45</td>\n",
       "    </tr>\n",
       "    <tr>\n",
       "      <th>24</th>\n",
       "      <td>November</td>\n",
       "      <td>6</td>\n",
       "      <td>183.60</td>\n",
       "    </tr>\n",
       "    <tr>\n",
       "      <th>25</th>\n",
       "      <td>November</td>\n",
       "      <td>7</td>\n",
       "      <td>5.95</td>\n",
       "    </tr>\n",
       "    <tr>\n",
       "      <th>26</th>\n",
       "      <td>November</td>\n",
       "      <td>8</td>\n",
       "      <td>133.20</td>\n",
       "    </tr>\n",
       "    <tr>\n",
       "      <th>27</th>\n",
       "      <td>November</td>\n",
       "      <td>9</td>\n",
       "      <td>74.16</td>\n",
       "    </tr>\n",
       "    <tr>\n",
       "      <th>28</th>\n",
       "      <td>November</td>\n",
       "      <td>10</td>\n",
       "      <td>95.40</td>\n",
       "    </tr>\n",
       "    <tr>\n",
       "      <th>29</th>\n",
       "      <td>November</td>\n",
       "      <td>12</td>\n",
       "      <td>333.36</td>\n",
       "    </tr>\n",
       "    <tr>\n",
       "      <th>30</th>\n",
       "      <td>November</td>\n",
       "      <td>18</td>\n",
       "      <td>59.94</td>\n",
       "    </tr>\n",
       "    <tr>\n",
       "      <th>31</th>\n",
       "      <td>November</td>\n",
       "      <td>20</td>\n",
       "      <td>57.80</td>\n",
       "    </tr>\n",
       "    <tr>\n",
       "      <th>32</th>\n",
       "      <td>November</td>\n",
       "      <td>22</td>\n",
       "      <td>20.68</td>\n",
       "    </tr>\n",
       "    <tr>\n",
       "      <th>33</th>\n",
       "      <td>November</td>\n",
       "      <td>24</td>\n",
       "      <td>223.68</td>\n",
       "    </tr>\n",
       "    <tr>\n",
       "      <th>34</th>\n",
       "      <td>November</td>\n",
       "      <td>25</td>\n",
       "      <td>10.50</td>\n",
       "    </tr>\n",
       "    <tr>\n",
       "      <th>35</th>\n",
       "      <td>November</td>\n",
       "      <td>30</td>\n",
       "      <td>55.80</td>\n",
       "    </tr>\n",
       "    <tr>\n",
       "      <th>36</th>\n",
       "      <td>November</td>\n",
       "      <td>32</td>\n",
       "      <td>81.60</td>\n",
       "    </tr>\n",
       "    <tr>\n",
       "      <th>37</th>\n",
       "      <td>November</td>\n",
       "      <td>60</td>\n",
       "      <td>51.00</td>\n",
       "    </tr>\n",
       "    <tr>\n",
       "      <th>38</th>\n",
       "      <td>November</td>\n",
       "      <td>72</td>\n",
       "      <td>128.88</td>\n",
       "    </tr>\n",
       "    <tr>\n",
       "      <th>39</th>\n",
       "      <td>November</td>\n",
       "      <td>96</td>\n",
       "      <td>408.96</td>\n",
       "    </tr>\n",
       "    <tr>\n",
       "      <th>40</th>\n",
       "      <td>November</td>\n",
       "      <td>120</td>\n",
       "      <td>214.80</td>\n",
       "    </tr>\n",
       "  </tbody>\n",
       "</table>\n",
       "</div>"
      ],
      "text/plain": [
       "   month_name  Quantit  OrderValue\n",
       "0         May        1       11.37\n",
       "1         May        2       89.94\n",
       "2         May        3       17.85\n",
       "3         May        4       96.44\n",
       "4         May        6      224.40\n",
       "5         May        8      175.60\n",
       "6         May       10      221.50\n",
       "7         May       12      134.04\n",
       "8         May       14       69.44\n",
       "9         May       20       42.00\n",
       "10        May       24      115.68\n",
       "11        May       30       63.00\n",
       "12        May       32       54.40\n",
       "13        May       36      178.20\n",
       "14        May       48      110.40\n",
       "15        May       60      126.00\n",
       "16        May       96       36.48\n",
       "17        May      144      237.60\n",
       "18        May      600      390.00\n",
       "19   November        1       78.07\n",
       "20   November        2       67.18\n",
       "21   November        3       45.33\n",
       "22   November        4      222.40\n",
       "23   November        5        1.45\n",
       "24   November        6      183.60\n",
       "25   November        7        5.95\n",
       "26   November        8      133.20\n",
       "27   November        9       74.16\n",
       "28   November       10       95.40\n",
       "29   November       12      333.36\n",
       "30   November       18       59.94\n",
       "31   November       20       57.80\n",
       "32   November       22       20.68\n",
       "33   November       24      223.68\n",
       "34   November       25       10.50\n",
       "35   November       30       55.80\n",
       "36   November       32       81.60\n",
       "37   November       60       51.00\n",
       "38   November       72      128.88\n",
       "39   November       96      408.96\n",
       "40   November      120      214.80"
      ]
     },
     "execution_count": 15,
     "metadata": {},
     "output_type": "execute_result"
    }
   ],
   "source": [
    "df_nov_may = df[(df[\"month_name\"] == \"May\") | (df[\"month_name\"] == \"November\")] \n",
    "df_nov_may.groupby([\"month_name\",\"Quantit\"])[[\"OrderValue\"]].sum()\\\n",
    "                                                            .reset_index()"
   ]
  },
  {
   "cell_type": "code",
   "execution_count": 16,
   "id": "a6bdaa2a",
   "metadata": {},
   "outputs": [
    {
     "data": {
      "text/html": [
       "<div>\n",
       "<style scoped>\n",
       "    .dataframe tbody tr th:only-of-type {\n",
       "        vertical-align: middle;\n",
       "    }\n",
       "\n",
       "    .dataframe tbody tr th {\n",
       "        vertical-align: top;\n",
       "    }\n",
       "\n",
       "    .dataframe thead th {\n",
       "        text-align: right;\n",
       "    }\n",
       "</style>\n",
       "<table border=\"1\" class=\"dataframe\">\n",
       "  <thead>\n",
       "    <tr style=\"text-align: right;\">\n",
       "      <th></th>\n",
       "      <th>Year-Month</th>\n",
       "      <th>Major Category</th>\n",
       "      <th>Minor Category</th>\n",
       "      <th>Country</th>\n",
       "      <th>OrderValue</th>\n",
       "    </tr>\n",
       "  </thead>\n",
       "  <tbody>\n",
       "    <tr>\n",
       "      <th>0</th>\n",
       "      <td>2011-05</td>\n",
       "      <td>Garden</td>\n",
       "      <td>Turf</td>\n",
       "      <td>France</td>\n",
       "      <td>10.08</td>\n",
       "    </tr>\n",
       "    <tr>\n",
       "      <th>1</th>\n",
       "      <td>2011-05</td>\n",
       "      <td>Garden</td>\n",
       "      <td>Turf</td>\n",
       "      <td>Germany</td>\n",
       "      <td>144.00</td>\n",
       "    </tr>\n",
       "    <tr>\n",
       "      <th>2</th>\n",
       "      <td>2011-05</td>\n",
       "      <td>Garden</td>\n",
       "      <td>Turf</td>\n",
       "      <td>United Kingdom</td>\n",
       "      <td>22.50</td>\n",
       "    </tr>\n",
       "    <tr>\n",
       "      <th>3</th>\n",
       "      <td>2011-05</td>\n",
       "      <td>Garden</td>\n",
       "      <td>Hoses</td>\n",
       "      <td>France</td>\n",
       "      <td>68.04</td>\n",
       "    </tr>\n",
       "    <tr>\n",
       "      <th>4</th>\n",
       "      <td>2011-05</td>\n",
       "      <td>Garden</td>\n",
       "      <td>Hoses</td>\n",
       "      <td>Hong Kong</td>\n",
       "      <td>26.40</td>\n",
       "    </tr>\n",
       "    <tr>\n",
       "      <th>...</th>\n",
       "      <td>...</td>\n",
       "      <td>...</td>\n",
       "      <td>...</td>\n",
       "      <td>...</td>\n",
       "      <td>...</td>\n",
       "    </tr>\n",
       "    <tr>\n",
       "      <th>81</th>\n",
       "      <td>2011-11</td>\n",
       "      <td>Household</td>\n",
       "      <td>Chairs</td>\n",
       "      <td>France</td>\n",
       "      <td>8.25</td>\n",
       "    </tr>\n",
       "    <tr>\n",
       "      <th>82</th>\n",
       "      <td>2011-11</td>\n",
       "      <td>Household</td>\n",
       "      <td>Chairs</td>\n",
       "      <td>Germany</td>\n",
       "      <td>37.44</td>\n",
       "    </tr>\n",
       "    <tr>\n",
       "      <th>83</th>\n",
       "      <td>2011-11</td>\n",
       "      <td>Household</td>\n",
       "      <td>Chairs</td>\n",
       "      <td>United Kingdom</td>\n",
       "      <td>64.63</td>\n",
       "    </tr>\n",
       "    <tr>\n",
       "      <th>84</th>\n",
       "      <td>2011-11</td>\n",
       "      <td>Household</td>\n",
       "      <td>Curtains</td>\n",
       "      <td>France</td>\n",
       "      <td>19.96</td>\n",
       "    </tr>\n",
       "    <tr>\n",
       "      <th>85</th>\n",
       "      <td>2011-11</td>\n",
       "      <td>Household</td>\n",
       "      <td>Curtains</td>\n",
       "      <td>United Kingdom</td>\n",
       "      <td>111.17</td>\n",
       "    </tr>\n",
       "  </tbody>\n",
       "</table>\n",
       "<p>86 rows × 5 columns</p>\n",
       "</div>"
      ],
      "text/plain": [
       "   Year-Month Major Category  Minor Category            Country  OrderValue\n",
       "0     2011-05       Garden              Turf          France          10.08\n",
       "1     2011-05       Garden              Turf         Germany         144.00\n",
       "2     2011-05       Garden              Turf  United Kingdom          22.50\n",
       "3     2011-05       Garden             Hoses          France          68.04\n",
       "4     2011-05       Garden             Hoses       Hong Kong          26.40\n",
       "..        ...            ...             ...                ...         ...\n",
       "81    2011-11    Household            Chairs          France           8.25\n",
       "82    2011-11    Household            Chairs         Germany          37.44\n",
       "83    2011-11    Household            Chairs  United Kingdom          64.63\n",
       "84    2011-11    Household          Curtains          France          19.96\n",
       "85    2011-11    Household          Curtains  United Kingdom         111.17\n",
       "\n",
       "[86 rows x 5 columns]"
      ]
     },
     "execution_count": 16,
     "metadata": {},
     "output_type": "execute_result"
    }
   ],
   "source": [
    "df_nov_may.groupby([\"Year-Month\",\"Major Category\",\"Minor Category\",\"Country\"])[[\"OrderValue\"]].sum().reset_index()"
   ]
  },
  {
   "cell_type": "markdown",
   "id": "54ea2ba6",
   "metadata": {},
   "source": [
    "#### `Note`\n",
    "###### `Quantity` in April and December is low and in May and November is high"
   ]
  },
  {
   "cell_type": "markdown",
   "id": "59a6f60d",
   "metadata": {},
   "source": [
    "### 8- Most Major Items sold in April and December ?\n"
   ]
  },
  {
   "cell_type": "code",
   "execution_count": 17,
   "id": "a794505e",
   "metadata": {},
   "outputs": [
    {
     "data": {
      "text/html": [
       "<div>\n",
       "<style scoped>\n",
       "    .dataframe tbody tr th:only-of-type {\n",
       "        vertical-align: middle;\n",
       "    }\n",
       "\n",
       "    .dataframe tbody tr th {\n",
       "        vertical-align: top;\n",
       "    }\n",
       "\n",
       "    .dataframe thead th {\n",
       "        text-align: right;\n",
       "    }\n",
       "</style>\n",
       "<table border=\"1\" class=\"dataframe\">\n",
       "  <thead>\n",
       "    <tr style=\"text-align: right;\">\n",
       "      <th></th>\n",
       "      <th>Count</th>\n",
       "    </tr>\n",
       "    <tr>\n",
       "      <th>Major Category</th>\n",
       "      <th></th>\n",
       "    </tr>\n",
       "  </thead>\n",
       "  <tbody>\n",
       "    <tr>\n",
       "      <th>Garden</th>\n",
       "      <td>26</td>\n",
       "    </tr>\n",
       "    <tr>\n",
       "      <th>Clothes</th>\n",
       "      <td>22</td>\n",
       "    </tr>\n",
       "    <tr>\n",
       "      <th>Kitchen</th>\n",
       "      <td>25</td>\n",
       "    </tr>\n",
       "    <tr>\n",
       "      <th>Household</th>\n",
       "      <td>26</td>\n",
       "    </tr>\n",
       "  </tbody>\n",
       "</table>\n",
       "</div>"
      ],
      "text/plain": [
       "                Count\n",
       "Major Category       \n",
       "     Garden        26\n",
       "    Clothes        22\n",
       "    Kitchen        25\n",
       "  Household        26"
      ]
     },
     "execution_count": 17,
     "metadata": {},
     "output_type": "execute_result"
    }
   ],
   "source": [
    "df_april_dec.groupby(\"Major Category\")[[\"Minor Category\"]].count().rename(columns={\"Minor Category\":\"Count\"})"
   ]
  },
  {
   "cell_type": "code",
   "execution_count": 18,
   "id": "52d621f0",
   "metadata": {},
   "outputs": [
    {
     "data": {
      "text/html": [
       "<div>\n",
       "<style scoped>\n",
       "    .dataframe tbody tr th:only-of-type {\n",
       "        vertical-align: middle;\n",
       "    }\n",
       "\n",
       "    .dataframe tbody tr th {\n",
       "        vertical-align: top;\n",
       "    }\n",
       "\n",
       "    .dataframe thead th {\n",
       "        text-align: right;\n",
       "    }\n",
       "</style>\n",
       "<table border=\"1\" class=\"dataframe\">\n",
       "  <thead>\n",
       "    <tr style=\"text-align: right;\">\n",
       "      <th></th>\n",
       "      <th>OrderValue</th>\n",
       "    </tr>\n",
       "    <tr>\n",
       "      <th>Major Category</th>\n",
       "      <th></th>\n",
       "    </tr>\n",
       "  </thead>\n",
       "  <tbody>\n",
       "    <tr>\n",
       "      <th>Garden</th>\n",
       "      <td>215.86</td>\n",
       "    </tr>\n",
       "    <tr>\n",
       "      <th>Clothes</th>\n",
       "      <td>347.70</td>\n",
       "    </tr>\n",
       "    <tr>\n",
       "      <th>Kitchen</th>\n",
       "      <td>553.63</td>\n",
       "    </tr>\n",
       "    <tr>\n",
       "      <th>Household</th>\n",
       "      <td>665.86</td>\n",
       "    </tr>\n",
       "  </tbody>\n",
       "</table>\n",
       "</div>"
      ],
      "text/plain": [
       "                OrderValue\n",
       "Major Category            \n",
       "     Garden         215.86\n",
       "    Clothes         347.70\n",
       "    Kitchen         553.63\n",
       "  Household         665.86"
      ]
     },
     "execution_count": 18,
     "metadata": {},
     "output_type": "execute_result"
    }
   ],
   "source": [
    "df_april_dec.groupby(\"Major Category\")[[\"OrderValue\"]].sum()"
   ]
  },
  {
   "cell_type": "markdown",
   "id": "6c66535e",
   "metadata": {},
   "source": [
    "#### `Note` \n",
    "- With the best selling category in the month of April and December is garden and Household but the ordervalue in kitchen , and household is high So we will say `Household` is Most Major Items sold ."
   ]
  },
  {
   "cell_type": "code",
   "execution_count": 19,
   "id": "2b363ce2",
   "metadata": {},
   "outputs": [
    {
     "data": {
      "text/html": [
       "<div>\n",
       "<style scoped>\n",
       "    .dataframe tbody tr th:only-of-type {\n",
       "        vertical-align: middle;\n",
       "    }\n",
       "\n",
       "    .dataframe tbody tr th {\n",
       "        vertical-align: top;\n",
       "    }\n",
       "\n",
       "    .dataframe thead th {\n",
       "        text-align: right;\n",
       "    }\n",
       "</style>\n",
       "<table border=\"1\" class=\"dataframe\">\n",
       "  <thead>\n",
       "    <tr style=\"text-align: right;\">\n",
       "      <th></th>\n",
       "      <th>InvoiceNo</th>\n",
       "      <th>UnitPrice</th>\n",
       "      <th>OrderValue</th>\n",
       "      <th>Quantit</th>\n",
       "    </tr>\n",
       "    <tr>\n",
       "      <th>Major Category</th>\n",
       "      <th></th>\n",
       "      <th></th>\n",
       "      <th></th>\n",
       "      <th></th>\n",
       "    </tr>\n",
       "  </thead>\n",
       "  <tbody>\n",
       "    <tr>\n",
       "      <th>Garden</th>\n",
       "      <td>14568399</td>\n",
       "      <td>86.34</td>\n",
       "      <td>215.86</td>\n",
       "      <td>142</td>\n",
       "    </tr>\n",
       "    <tr>\n",
       "      <th>Clothes</th>\n",
       "      <td>12186199</td>\n",
       "      <td>77.19</td>\n",
       "      <td>347.70</td>\n",
       "      <td>160</td>\n",
       "    </tr>\n",
       "    <tr>\n",
       "      <th>Kitchen</th>\n",
       "      <td>13701708</td>\n",
       "      <td>97.74</td>\n",
       "      <td>553.63</td>\n",
       "      <td>209</td>\n",
       "    </tr>\n",
       "    <tr>\n",
       "      <th>Household</th>\n",
       "      <td>14420547</td>\n",
       "      <td>300.84</td>\n",
       "      <td>665.86</td>\n",
       "      <td>272</td>\n",
       "    </tr>\n",
       "  </tbody>\n",
       "</table>\n",
       "</div>"
      ],
      "text/plain": [
       "                InvoiceNo  UnitPrice  OrderValue  Quantit\n",
       "Major Category                                           \n",
       "     Garden      14568399      86.34      215.86      142\n",
       "    Clothes      12186199      77.19      347.70      160\n",
       "    Kitchen      13701708      97.74      553.63      209\n",
       "  Household      14420547     300.84      665.86      272"
      ]
     },
     "execution_count": 19,
     "metadata": {},
     "output_type": "execute_result"
    }
   ],
   "source": [
    "df_april_dec.groupby(\"Major Category\")[[\"InvoiceNo\",\"UnitPrice\",\"OrderValue\",\"Quantit\"]].sum()"
   ]
  },
  {
   "cell_type": "markdown",
   "id": "5e180944",
   "metadata": {},
   "source": [
    "### 9- Most Major Items sold in May and November ?\n"
   ]
  },
  {
   "cell_type": "code",
   "execution_count": 20,
   "id": "4d210087",
   "metadata": {},
   "outputs": [
    {
     "data": {
      "text/html": [
       "<div>\n",
       "<style scoped>\n",
       "    .dataframe tbody tr th:only-of-type {\n",
       "        vertical-align: middle;\n",
       "    }\n",
       "\n",
       "    .dataframe tbody tr th {\n",
       "        vertical-align: top;\n",
       "    }\n",
       "\n",
       "    .dataframe thead th {\n",
       "        text-align: right;\n",
       "    }\n",
       "</style>\n",
       "<table border=\"1\" class=\"dataframe\">\n",
       "  <thead>\n",
       "    <tr style=\"text-align: right;\">\n",
       "      <th></th>\n",
       "      <th>Count</th>\n",
       "    </tr>\n",
       "    <tr>\n",
       "      <th>Major Category</th>\n",
       "      <th></th>\n",
       "    </tr>\n",
       "  </thead>\n",
       "  <tbody>\n",
       "    <tr>\n",
       "      <th>Kitchen</th>\n",
       "      <td>48</td>\n",
       "    </tr>\n",
       "    <tr>\n",
       "      <th>Garden</th>\n",
       "      <td>47</td>\n",
       "    </tr>\n",
       "    <tr>\n",
       "      <th>Household</th>\n",
       "      <td>41</td>\n",
       "    </tr>\n",
       "    <tr>\n",
       "      <th>Clothes</th>\n",
       "      <td>36</td>\n",
       "    </tr>\n",
       "  </tbody>\n",
       "</table>\n",
       "</div>"
      ],
      "text/plain": [
       "                Count\n",
       "Major Category       \n",
       "    Kitchen        48\n",
       "     Garden        47\n",
       "  Household        41\n",
       "    Clothes        36"
      ]
     },
     "execution_count": 20,
     "metadata": {},
     "output_type": "execute_result"
    }
   ],
   "source": [
    "df_nov_may.groupby(\"Major Category\")[[\"Minor Category\"]].count().rename(columns={\"Minor Category\":\"Count\"})\\\n",
    "                                                                                .sort_values(by=\"Count\",ascending=False)"
   ]
  },
  {
   "cell_type": "code",
   "execution_count": 21,
   "id": "9bd8ed2b",
   "metadata": {},
   "outputs": [
    {
     "data": {
      "text/html": [
       "<div>\n",
       "<style scoped>\n",
       "    .dataframe tbody tr th:only-of-type {\n",
       "        vertical-align: middle;\n",
       "    }\n",
       "\n",
       "    .dataframe tbody tr th {\n",
       "        vertical-align: top;\n",
       "    }\n",
       "\n",
       "    .dataframe thead th {\n",
       "        text-align: right;\n",
       "    }\n",
       "</style>\n",
       "<table border=\"1\" class=\"dataframe\">\n",
       "  <thead>\n",
       "    <tr style=\"text-align: right;\">\n",
       "      <th></th>\n",
       "      <th>OrderValue</th>\n",
       "    </tr>\n",
       "    <tr>\n",
       "      <th>Major Category</th>\n",
       "      <th></th>\n",
       "    </tr>\n",
       "  </thead>\n",
       "  <tbody>\n",
       "    <tr>\n",
       "      <th>Garden</th>\n",
       "      <td>1651.90</td>\n",
       "    </tr>\n",
       "    <tr>\n",
       "      <th>Kitchen</th>\n",
       "      <td>1523.03</td>\n",
       "    </tr>\n",
       "    <tr>\n",
       "      <th>Clothes</th>\n",
       "      <td>936.62</td>\n",
       "    </tr>\n",
       "    <tr>\n",
       "      <th>Household</th>\n",
       "      <td>836.53</td>\n",
       "    </tr>\n",
       "  </tbody>\n",
       "</table>\n",
       "</div>"
      ],
      "text/plain": [
       "                OrderValue\n",
       "Major Category            \n",
       "     Garden        1651.90\n",
       "    Kitchen        1523.03\n",
       "    Clothes         936.62\n",
       "  Household         836.53"
      ]
     },
     "execution_count": 21,
     "metadata": {},
     "output_type": "execute_result"
    }
   ],
   "source": [
    "df_nov_may.groupby(\"Major Category\")[[\"OrderValue\"]].sum().sort_values(by=\"OrderValue\",ascending=False)"
   ]
  },
  {
   "cell_type": "markdown",
   "id": "bb11ec9c",
   "metadata": {},
   "source": [
    "##### `Note` most major Items sold in May and November is Garden and Kitchen"
   ]
  },
  {
   "cell_type": "code",
   "execution_count": 22,
   "id": "fe7231c1",
   "metadata": {},
   "outputs": [
    {
     "data": {
      "text/html": [
       "<div>\n",
       "<style scoped>\n",
       "    .dataframe tbody tr th:only-of-type {\n",
       "        vertical-align: middle;\n",
       "    }\n",
       "\n",
       "    .dataframe tbody tr th {\n",
       "        vertical-align: top;\n",
       "    }\n",
       "\n",
       "    .dataframe thead th {\n",
       "        text-align: right;\n",
       "    }\n",
       "</style>\n",
       "<table border=\"1\" class=\"dataframe\">\n",
       "  <thead>\n",
       "    <tr style=\"text-align: right;\">\n",
       "      <th></th>\n",
       "      <th>InvoiceNo</th>\n",
       "      <th>UnitPrice</th>\n",
       "      <th>OrderValue</th>\n",
       "      <th>Quantit</th>\n",
       "    </tr>\n",
       "    <tr>\n",
       "      <th>Major Category</th>\n",
       "      <th></th>\n",
       "      <th></th>\n",
       "      <th></th>\n",
       "      <th></th>\n",
       "    </tr>\n",
       "  </thead>\n",
       "  <tbody>\n",
       "    <tr>\n",
       "      <th>Garden</th>\n",
       "      <td>26754139</td>\n",
       "      <td>151.19</td>\n",
       "      <td>1651.90</td>\n",
       "      <td>1234</td>\n",
       "    </tr>\n",
       "    <tr>\n",
       "      <th>Clothes</th>\n",
       "      <td>20393767</td>\n",
       "      <td>128.03</td>\n",
       "      <td>936.62</td>\n",
       "      <td>538</td>\n",
       "    </tr>\n",
       "    <tr>\n",
       "      <th>Kitchen</th>\n",
       "      <td>27295187</td>\n",
       "      <td>133.72</td>\n",
       "      <td>1523.03</td>\n",
       "      <td>876</td>\n",
       "    </tr>\n",
       "    <tr>\n",
       "      <th>Household</th>\n",
       "      <td>23229742</td>\n",
       "      <td>100.16</td>\n",
       "      <td>836.53</td>\n",
       "      <td>533</td>\n",
       "    </tr>\n",
       "  </tbody>\n",
       "</table>\n",
       "</div>"
      ],
      "text/plain": [
       "                InvoiceNo  UnitPrice  OrderValue  Quantit\n",
       "Major Category                                           \n",
       "     Garden      26754139     151.19     1651.90     1234\n",
       "    Clothes      20393767     128.03      936.62      538\n",
       "    Kitchen      27295187     133.72     1523.03      876\n",
       "  Household      23229742     100.16      836.53      533"
      ]
     },
     "execution_count": 22,
     "metadata": {},
     "output_type": "execute_result"
    }
   ],
   "source": [
    "df_nov_may.groupby(\"Major Category\")[[\"InvoiceNo\",\"UnitPrice\",\"OrderValue\",\"Quantit\"]].sum()"
   ]
  },
  {
   "cell_type": "markdown",
   "id": "e1ea9855",
   "metadata": {},
   "source": [
    "### 10- What Hour recives high demand for ordering?"
   ]
  },
  {
   "cell_type": "code",
   "execution_count": 23,
   "id": "1c9b684c",
   "metadata": {},
   "outputs": [],
   "source": [
    "h = []\n",
    "for i in df['InvoiceTime']:\n",
    "    h.append(int(i.split(\":\")[0]))"
   ]
  },
  {
   "cell_type": "code",
   "execution_count": 24,
   "id": "e59522ee",
   "metadata": {},
   "outputs": [],
   "source": [
    "df[\"Hours\"] = pd.DataFrame(h) "
   ]
  },
  {
   "cell_type": "code",
   "execution_count": 25,
   "id": "f19d5750",
   "metadata": {},
   "outputs": [
    {
     "data": {
      "text/html": [
       "<div>\n",
       "<style scoped>\n",
       "    .dataframe tbody tr th:only-of-type {\n",
       "        vertical-align: middle;\n",
       "    }\n",
       "\n",
       "    .dataframe tbody tr th {\n",
       "        vertical-align: top;\n",
       "    }\n",
       "\n",
       "    .dataframe thead th {\n",
       "        text-align: right;\n",
       "    }\n",
       "</style>\n",
       "<table border=\"1\" class=\"dataframe\">\n",
       "  <thead>\n",
       "    <tr style=\"text-align: right;\">\n",
       "      <th></th>\n",
       "      <th>Hours</th>\n",
       "      <th>Quantit</th>\n",
       "    </tr>\n",
       "  </thead>\n",
       "  <tbody>\n",
       "    <tr>\n",
       "      <th>0</th>\n",
       "      <td>13</td>\n",
       "      <td>2958</td>\n",
       "    </tr>\n",
       "    <tr>\n",
       "      <th>1</th>\n",
       "      <td>10</td>\n",
       "      <td>2663</td>\n",
       "    </tr>\n",
       "    <tr>\n",
       "      <th>2</th>\n",
       "      <td>14</td>\n",
       "      <td>2016</td>\n",
       "    </tr>\n",
       "    <tr>\n",
       "      <th>3</th>\n",
       "      <td>11</td>\n",
       "      <td>1661</td>\n",
       "    </tr>\n",
       "    <tr>\n",
       "      <th>4</th>\n",
       "      <td>15</td>\n",
       "      <td>1448</td>\n",
       "    </tr>\n",
       "    <tr>\n",
       "      <th>5</th>\n",
       "      <td>9</td>\n",
       "      <td>1398</td>\n",
       "    </tr>\n",
       "    <tr>\n",
       "      <th>6</th>\n",
       "      <td>12</td>\n",
       "      <td>1288</td>\n",
       "    </tr>\n",
       "    <tr>\n",
       "      <th>7</th>\n",
       "      <td>8</td>\n",
       "      <td>624</td>\n",
       "    </tr>\n",
       "    <tr>\n",
       "      <th>8</th>\n",
       "      <td>16</td>\n",
       "      <td>331</td>\n",
       "    </tr>\n",
       "    <tr>\n",
       "      <th>9</th>\n",
       "      <td>17</td>\n",
       "      <td>116</td>\n",
       "    </tr>\n",
       "    <tr>\n",
       "      <th>10</th>\n",
       "      <td>7</td>\n",
       "      <td>96</td>\n",
       "    </tr>\n",
       "    <tr>\n",
       "      <th>11</th>\n",
       "      <td>18</td>\n",
       "      <td>4</td>\n",
       "    </tr>\n",
       "    <tr>\n",
       "      <th>12</th>\n",
       "      <td>19</td>\n",
       "      <td>2</td>\n",
       "    </tr>\n",
       "    <tr>\n",
       "      <th>13</th>\n",
       "      <td>20</td>\n",
       "      <td>1</td>\n",
       "    </tr>\n",
       "  </tbody>\n",
       "</table>\n",
       "</div>"
      ],
      "text/plain": [
       "    Hours  Quantit\n",
       "0      13     2958\n",
       "1      10     2663\n",
       "2      14     2016\n",
       "3      11     1661\n",
       "4      15     1448\n",
       "5       9     1398\n",
       "6      12     1288\n",
       "7       8      624\n",
       "8      16      331\n",
       "9      17      116\n",
       "10      7       96\n",
       "11     18        4\n",
       "12     19        2\n",
       "13     20        1"
      ]
     },
     "execution_count": 25,
     "metadata": {},
     "output_type": "execute_result"
    }
   ],
   "source": [
    "df.groupby(\"Hours\")[[\"Quantit\"]].sum().sort_values(by=\"Quantit\", ascending=False).reset_index()"
   ]
  },
  {
   "cell_type": "markdown",
   "id": "0a6b28f5",
   "metadata": {},
   "source": [
    "#####  `13 PM , recives high demand for ordering `"
   ]
  },
  {
   "cell_type": "markdown",
   "id": "ec1fd0a4",
   "metadata": {},
   "source": [
    "### 11- What's the Time of the day that contributes to high Order Values?"
   ]
  },
  {
   "cell_type": "code",
   "execution_count": 26,
   "id": "01093be9",
   "metadata": {},
   "outputs": [],
   "source": [
    "ordertime = []\n",
    "for i in df[\"Hours\"]:\n",
    "    if (i > 5) and (i < 12)  : \n",
    "        ordertime.append(\"Morning\")\n",
    "    elif (i >= 12) and (i < 16)  : \n",
    "        ordertime.append(\"Afternoon\")\n",
    "    else :\n",
    "        ordertime.append(\"Evening\")"
   ]
  },
  {
   "cell_type": "code",
   "execution_count": 27,
   "id": "212cd881",
   "metadata": {},
   "outputs": [],
   "source": [
    "df[\"OrderTimeOfDay\"] = pd.DataFrame(ordertime)"
   ]
  },
  {
   "cell_type": "code",
   "execution_count": 28,
   "id": "7a168499",
   "metadata": {},
   "outputs": [
    {
     "data": {
      "text/html": [
       "<div>\n",
       "<style scoped>\n",
       "    .dataframe tbody tr th:only-of-type {\n",
       "        vertical-align: middle;\n",
       "    }\n",
       "\n",
       "    .dataframe tbody tr th {\n",
       "        vertical-align: top;\n",
       "    }\n",
       "\n",
       "    .dataframe thead th {\n",
       "        text-align: right;\n",
       "    }\n",
       "</style>\n",
       "<table border=\"1\" class=\"dataframe\">\n",
       "  <thead>\n",
       "    <tr style=\"text-align: right;\">\n",
       "      <th></th>\n",
       "      <th>Quantit</th>\n",
       "    </tr>\n",
       "    <tr>\n",
       "      <th>OrderTimeOfDay</th>\n",
       "      <th></th>\n",
       "    </tr>\n",
       "  </thead>\n",
       "  <tbody>\n",
       "    <tr>\n",
       "      <th>Afternoon</th>\n",
       "      <td>7710</td>\n",
       "    </tr>\n",
       "    <tr>\n",
       "      <th>Morning</th>\n",
       "      <td>6442</td>\n",
       "    </tr>\n",
       "    <tr>\n",
       "      <th>Evening</th>\n",
       "      <td>454</td>\n",
       "    </tr>\n",
       "  </tbody>\n",
       "</table>\n",
       "</div>"
      ],
      "text/plain": [
       "                Quantit\n",
       "OrderTimeOfDay         \n",
       "Afternoon          7710\n",
       "Morning            6442\n",
       "Evening             454"
      ]
     },
     "execution_count": 28,
     "metadata": {},
     "output_type": "execute_result"
    }
   ],
   "source": [
    "df.groupby(\"OrderTimeOfDay\")[[\"Quantit\"]].sum().sort_values(by=\"Quantit\", ascending=False)"
   ]
  },
  {
   "cell_type": "markdown",
   "id": "8fa2f6eb",
   "metadata": {},
   "source": [
    "##### the Time of the day that contributes to high Order Values is `Afternoon`. \n"
   ]
  },
  {
   "cell_type": "markdown",
   "id": "94fe3d44",
   "metadata": {},
   "source": [
    "### 12 - Order value For each Country in each month"
   ]
  },
  {
   "cell_type": "code",
   "execution_count": 29,
   "id": "4391f5ed",
   "metadata": {},
   "outputs": [
    {
     "data": {
      "text/html": [
       "<div>\n",
       "<style scoped>\n",
       "    .dataframe tbody tr th:only-of-type {\n",
       "        vertical-align: middle;\n",
       "    }\n",
       "\n",
       "    .dataframe tbody tr th {\n",
       "        vertical-align: top;\n",
       "    }\n",
       "\n",
       "    .dataframe thead th {\n",
       "        text-align: right;\n",
       "    }\n",
       "</style>\n",
       "<table border=\"1\" class=\"dataframe\">\n",
       "  <thead>\n",
       "    <tr style=\"text-align: right;\">\n",
       "      <th>Country</th>\n",
       "      <th>France</th>\n",
       "      <th>Germany</th>\n",
       "      <th>Australia</th>\n",
       "      <th>Hong Kong</th>\n",
       "      <th>United Kingdom</th>\n",
       "    </tr>\n",
       "    <tr>\n",
       "      <th>Year-Month</th>\n",
       "      <th></th>\n",
       "      <th></th>\n",
       "      <th></th>\n",
       "      <th></th>\n",
       "      <th></th>\n",
       "    </tr>\n",
       "  </thead>\n",
       "  <tbody>\n",
       "    <tr>\n",
       "      <th>2010-12</th>\n",
       "      <td>128.33</td>\n",
       "      <td>227.70</td>\n",
       "      <td>147.50</td>\n",
       "      <td>NaN</td>\n",
       "      <td>291.81</td>\n",
       "    </tr>\n",
       "    <tr>\n",
       "      <th>2011-01</th>\n",
       "      <td>576.29</td>\n",
       "      <td>279.10</td>\n",
       "      <td>471.30</td>\n",
       "      <td>595.80</td>\n",
       "      <td>157.76</td>\n",
       "    </tr>\n",
       "    <tr>\n",
       "      <th>2011-02</th>\n",
       "      <td>213.60</td>\n",
       "      <td>420.50</td>\n",
       "      <td>511.94</td>\n",
       "      <td>NaN</td>\n",
       "      <td>612.72</td>\n",
       "    </tr>\n",
       "    <tr>\n",
       "      <th>2011-03</th>\n",
       "      <td>508.47</td>\n",
       "      <td>50.55</td>\n",
       "      <td>1360.70</td>\n",
       "      <td>NaN</td>\n",
       "      <td>404.47</td>\n",
       "    </tr>\n",
       "    <tr>\n",
       "      <th>2011-04</th>\n",
       "      <td>30.30</td>\n",
       "      <td>98.00</td>\n",
       "      <td>NaN</td>\n",
       "      <td>73.10</td>\n",
       "      <td>387.43</td>\n",
       "    </tr>\n",
       "    <tr>\n",
       "      <th>2011-05</th>\n",
       "      <td>392.82</td>\n",
       "      <td>753.30</td>\n",
       "      <td>589.38</td>\n",
       "      <td>269.85</td>\n",
       "      <td>388.99</td>\n",
       "    </tr>\n",
       "    <tr>\n",
       "      <th>2011-06</th>\n",
       "      <td>514.00</td>\n",
       "      <td>138.38</td>\n",
       "      <td>748.00</td>\n",
       "      <td>15.00</td>\n",
       "      <td>463.51</td>\n",
       "    </tr>\n",
       "    <tr>\n",
       "      <th>2011-07</th>\n",
       "      <td>244.86</td>\n",
       "      <td>221.99</td>\n",
       "      <td>477.26</td>\n",
       "      <td>NaN</td>\n",
       "      <td>618.12</td>\n",
       "    </tr>\n",
       "    <tr>\n",
       "      <th>2011-08</th>\n",
       "      <td>839.34</td>\n",
       "      <td>137.55</td>\n",
       "      <td>558.18</td>\n",
       "      <td>578.90</td>\n",
       "      <td>213.22</td>\n",
       "    </tr>\n",
       "    <tr>\n",
       "      <th>2011-09</th>\n",
       "      <td>379.58</td>\n",
       "      <td>217.26</td>\n",
       "      <td>1007.97</td>\n",
       "      <td>NaN</td>\n",
       "      <td>734.94</td>\n",
       "    </tr>\n",
       "    <tr>\n",
       "      <th>2011-10</th>\n",
       "      <td>577.14</td>\n",
       "      <td>167.46</td>\n",
       "      <td>231.90</td>\n",
       "      <td>127.59</td>\n",
       "      <td>278.45</td>\n",
       "    </tr>\n",
       "    <tr>\n",
       "      <th>2011-11</th>\n",
       "      <td>1108.31</td>\n",
       "      <td>356.84</td>\n",
       "      <td>245.76</td>\n",
       "      <td>NaN</td>\n",
       "      <td>842.83</td>\n",
       "    </tr>\n",
       "    <tr>\n",
       "      <th>2011-12</th>\n",
       "      <td>125.12</td>\n",
       "      <td>85.08</td>\n",
       "      <td>NaN</td>\n",
       "      <td>NaN</td>\n",
       "      <td>188.68</td>\n",
       "    </tr>\n",
       "  </tbody>\n",
       "</table>\n",
       "</div>"
      ],
      "text/plain": [
       "Country             France            Germany          Australia     \\\n",
       "Year-Month                                                            \n",
       "2010-12                128.33             227.70             147.50   \n",
       "2011-01                576.29             279.10             471.30   \n",
       "2011-02                213.60             420.50             511.94   \n",
       "2011-03                508.47              50.55            1360.70   \n",
       "2011-04                 30.30              98.00                NaN   \n",
       "2011-05                392.82             753.30             589.38   \n",
       "2011-06                514.00             138.38             748.00   \n",
       "2011-07                244.86             221.99             477.26   \n",
       "2011-08                839.34             137.55             558.18   \n",
       "2011-09                379.58             217.26            1007.97   \n",
       "2011-10                577.14             167.46             231.90   \n",
       "2011-11               1108.31             356.84             245.76   \n",
       "2011-12                125.12              85.08                NaN   \n",
       "\n",
       "Country          Hong Kong     United Kingdom     \n",
       "Year-Month                                        \n",
       "2010-12                   NaN             291.81  \n",
       "2011-01                595.80             157.76  \n",
       "2011-02                   NaN             612.72  \n",
       "2011-03                   NaN             404.47  \n",
       "2011-04                 73.10             387.43  \n",
       "2011-05                269.85             388.99  \n",
       "2011-06                 15.00             463.51  \n",
       "2011-07                   NaN             618.12  \n",
       "2011-08                578.90             213.22  \n",
       "2011-09                   NaN             734.94  \n",
       "2011-10                127.59             278.45  \n",
       "2011-11                   NaN             842.83  \n",
       "2011-12                   NaN             188.68  "
      ]
     },
     "execution_count": 29,
     "metadata": {},
     "output_type": "execute_result"
    }
   ],
   "source": [
    "round(pd.pivot_table(data=df, values=\"OrderValue\", index=\"Year-Month\", columns=\"Country\", aggfunc=\"sum\"),2)"
   ]
  },
  {
   "cell_type": "markdown",
   "id": "2bcc4e63",
   "metadata": {},
   "source": [
    "### 13 - Order Value For each Country and Major Category in Minor Category"
   ]
  },
  {
   "cell_type": "code",
   "execution_count": 30,
   "id": "a53dc82c",
   "metadata": {},
   "outputs": [
    {
     "data": {
      "text/html": [
       "<div>\n",
       "<style scoped>\n",
       "    .dataframe tbody tr th:only-of-type {\n",
       "        vertical-align: middle;\n",
       "    }\n",
       "\n",
       "    .dataframe tbody tr th {\n",
       "        vertical-align: top;\n",
       "    }\n",
       "\n",
       "    .dataframe thead th {\n",
       "        text-align: right;\n",
       "    }\n",
       "</style>\n",
       "<table border=\"1\" class=\"dataframe\">\n",
       "  <thead>\n",
       "    <tr style=\"text-align: right;\">\n",
       "      <th></th>\n",
       "      <th>Year-Month</th>\n",
       "      <th>2010-12</th>\n",
       "      <th>2011-01</th>\n",
       "      <th>2011-02</th>\n",
       "      <th>2011-03</th>\n",
       "      <th>2011-04</th>\n",
       "      <th>2011-05</th>\n",
       "      <th>2011-06</th>\n",
       "      <th>2011-07</th>\n",
       "      <th>2011-08</th>\n",
       "      <th>2011-09</th>\n",
       "      <th>2011-10</th>\n",
       "      <th>2011-11</th>\n",
       "      <th>2011-12</th>\n",
       "    </tr>\n",
       "    <tr>\n",
       "      <th>Country</th>\n",
       "      <th>Major Category</th>\n",
       "      <th></th>\n",
       "      <th></th>\n",
       "      <th></th>\n",
       "      <th></th>\n",
       "      <th></th>\n",
       "      <th></th>\n",
       "      <th></th>\n",
       "      <th></th>\n",
       "      <th></th>\n",
       "      <th></th>\n",
       "      <th></th>\n",
       "      <th></th>\n",
       "      <th></th>\n",
       "    </tr>\n",
       "  </thead>\n",
       "  <tbody>\n",
       "    <tr>\n",
       "      <th rowspan=\"4\" valign=\"top\">France</th>\n",
       "      <th>Garden</th>\n",
       "      <td>10.08</td>\n",
       "      <td>85.35</td>\n",
       "      <td>57.30</td>\n",
       "      <td>138.72</td>\n",
       "      <td>NaN</td>\n",
       "      <td>168.12</td>\n",
       "      <td>303.60</td>\n",
       "      <td>24.36</td>\n",
       "      <td>667.38</td>\n",
       "      <td>87.28</td>\n",
       "      <td>27.50</td>\n",
       "      <td>292.39</td>\n",
       "      <td>26.32</td>\n",
       "    </tr>\n",
       "    <tr>\n",
       "      <th>Clothes</th>\n",
       "      <td>41.70</td>\n",
       "      <td>137.85</td>\n",
       "      <td>108.30</td>\n",
       "      <td>162.15</td>\n",
       "      <td>15.00</td>\n",
       "      <td>48.50</td>\n",
       "      <td>65.10</td>\n",
       "      <td>30.00</td>\n",
       "      <td>92.06</td>\n",
       "      <td>53.04</td>\n",
       "      <td>297.16</td>\n",
       "      <td>196.53</td>\n",
       "      <td>62.40</td>\n",
       "    </tr>\n",
       "    <tr>\n",
       "      <th>Kitchen</th>\n",
       "      <td>18.35</td>\n",
       "      <td>197.80</td>\n",
       "      <td>NaN</td>\n",
       "      <td>192.60</td>\n",
       "      <td>15.30</td>\n",
       "      <td>133.76</td>\n",
       "      <td>67.90</td>\n",
       "      <td>82.00</td>\n",
       "      <td>39.60</td>\n",
       "      <td>155.42</td>\n",
       "      <td>171.60</td>\n",
       "      <td>442.98</td>\n",
       "      <td>19.80</td>\n",
       "    </tr>\n",
       "    <tr>\n",
       "      <th>Household</th>\n",
       "      <td>58.20</td>\n",
       "      <td>155.29</td>\n",
       "      <td>48.00</td>\n",
       "      <td>15.00</td>\n",
       "      <td>NaN</td>\n",
       "      <td>42.44</td>\n",
       "      <td>77.40</td>\n",
       "      <td>108.50</td>\n",
       "      <td>40.30</td>\n",
       "      <td>83.84</td>\n",
       "      <td>80.88</td>\n",
       "      <td>176.41</td>\n",
       "      <td>16.60</td>\n",
       "    </tr>\n",
       "    <tr>\n",
       "      <th rowspan=\"4\" valign=\"top\">Germany</th>\n",
       "      <th>Garden</th>\n",
       "      <td>NaN</td>\n",
       "      <td>127.80</td>\n",
       "      <td>23.60</td>\n",
       "      <td>35.55</td>\n",
       "      <td>20.80</td>\n",
       "      <td>534.00</td>\n",
       "      <td>48.30</td>\n",
       "      <td>49.55</td>\n",
       "      <td>49.65</td>\n",
       "      <td>17.70</td>\n",
       "      <td>48.00</td>\n",
       "      <td>131.90</td>\n",
       "      <td>30.00</td>\n",
       "    </tr>\n",
       "    <tr>\n",
       "      <th>Clothes</th>\n",
       "      <td>NaN</td>\n",
       "      <td>97.30</td>\n",
       "      <td>15.90</td>\n",
       "      <td>NaN</td>\n",
       "      <td>NaN</td>\n",
       "      <td>85.50</td>\n",
       "      <td>29.88</td>\n",
       "      <td>110.46</td>\n",
       "      <td>39.90</td>\n",
       "      <td>177.30</td>\n",
       "      <td>57.05</td>\n",
       "      <td>31.00</td>\n",
       "      <td>NaN</td>\n",
       "    </tr>\n",
       "    <tr>\n",
       "      <th>Kitchen</th>\n",
       "      <td>125.70</td>\n",
       "      <td>20.40</td>\n",
       "      <td>NaN</td>\n",
       "      <td>15.00</td>\n",
       "      <td>7.80</td>\n",
       "      <td>133.80</td>\n",
       "      <td>8.50</td>\n",
       "      <td>61.98</td>\n",
       "      <td>NaN</td>\n",
       "      <td>22.26</td>\n",
       "      <td>45.25</td>\n",
       "      <td>119.00</td>\n",
       "      <td>NaN</td>\n",
       "    </tr>\n",
       "    <tr>\n",
       "      <th>Household</th>\n",
       "      <td>102.00</td>\n",
       "      <td>33.60</td>\n",
       "      <td>381.00</td>\n",
       "      <td>NaN</td>\n",
       "      <td>69.40</td>\n",
       "      <td>NaN</td>\n",
       "      <td>51.70</td>\n",
       "      <td>NaN</td>\n",
       "      <td>48.00</td>\n",
       "      <td>NaN</td>\n",
       "      <td>17.16</td>\n",
       "      <td>74.94</td>\n",
       "      <td>55.08</td>\n",
       "    </tr>\n",
       "    <tr>\n",
       "      <th rowspan=\"4\" valign=\"top\">Australia</th>\n",
       "      <th>Garden</th>\n",
       "      <td>NaN</td>\n",
       "      <td>16.50</td>\n",
       "      <td>53.10</td>\n",
       "      <td>51.84</td>\n",
       "      <td>NaN</td>\n",
       "      <td>NaN</td>\n",
       "      <td>222.00</td>\n",
       "      <td>NaN</td>\n",
       "      <td>NaN</td>\n",
       "      <td>689.10</td>\n",
       "      <td>20.80</td>\n",
       "      <td>18.24</td>\n",
       "      <td>NaN</td>\n",
       "    </tr>\n",
       "    <tr>\n",
       "      <th>Clothes</th>\n",
       "      <td>NaN</td>\n",
       "      <td>NaN</td>\n",
       "      <td>68.00</td>\n",
       "      <td>735.36</td>\n",
       "      <td>NaN</td>\n",
       "      <td>237.60</td>\n",
       "      <td>NaN</td>\n",
       "      <td>30.60</td>\n",
       "      <td>NaN</td>\n",
       "      <td>90.27</td>\n",
       "      <td>NaN</td>\n",
       "      <td>69.12</td>\n",
       "      <td>NaN</td>\n",
       "    </tr>\n",
       "    <tr>\n",
       "      <th>Kitchen</th>\n",
       "      <td>147.50</td>\n",
       "      <td>139.20</td>\n",
       "      <td>51.84</td>\n",
       "      <td>557.60</td>\n",
       "      <td>NaN</td>\n",
       "      <td>245.70</td>\n",
       "      <td>256.00</td>\n",
       "      <td>412.36</td>\n",
       "      <td>433.38</td>\n",
       "      <td>228.60</td>\n",
       "      <td>NaN</td>\n",
       "      <td>158.40</td>\n",
       "      <td>NaN</td>\n",
       "    </tr>\n",
       "    <tr>\n",
       "      <th>Household</th>\n",
       "      <td>NaN</td>\n",
       "      <td>315.60</td>\n",
       "      <td>339.00</td>\n",
       "      <td>15.90</td>\n",
       "      <td>NaN</td>\n",
       "      <td>106.08</td>\n",
       "      <td>270.00</td>\n",
       "      <td>34.30</td>\n",
       "      <td>124.80</td>\n",
       "      <td>NaN</td>\n",
       "      <td>211.10</td>\n",
       "      <td>NaN</td>\n",
       "      <td>NaN</td>\n",
       "    </tr>\n",
       "    <tr>\n",
       "      <th rowspan=\"4\" valign=\"top\">Hong Kong</th>\n",
       "      <th>Garden</th>\n",
       "      <td>NaN</td>\n",
       "      <td>78.90</td>\n",
       "      <td>NaN</td>\n",
       "      <td>NaN</td>\n",
       "      <td>12.50</td>\n",
       "      <td>91.15</td>\n",
       "      <td>15.00</td>\n",
       "      <td>NaN</td>\n",
       "      <td>248.10</td>\n",
       "      <td>NaN</td>\n",
       "      <td>15.00</td>\n",
       "      <td>NaN</td>\n",
       "      <td>NaN</td>\n",
       "    </tr>\n",
       "    <tr>\n",
       "      <th>Clothes</th>\n",
       "      <td>NaN</td>\n",
       "      <td>450.90</td>\n",
       "      <td>NaN</td>\n",
       "      <td>NaN</td>\n",
       "      <td>15.60</td>\n",
       "      <td>33.50</td>\n",
       "      <td>NaN</td>\n",
       "      <td>NaN</td>\n",
       "      <td>79.60</td>\n",
       "      <td>NaN</td>\n",
       "      <td>21.78</td>\n",
       "      <td>NaN</td>\n",
       "      <td>NaN</td>\n",
       "    </tr>\n",
       "    <tr>\n",
       "      <th>Kitchen</th>\n",
       "      <td>NaN</td>\n",
       "      <td>NaN</td>\n",
       "      <td>NaN</td>\n",
       "      <td>NaN</td>\n",
       "      <td>NaN</td>\n",
       "      <td>62.40</td>\n",
       "      <td>NaN</td>\n",
       "      <td>NaN</td>\n",
       "      <td>165.60</td>\n",
       "      <td>NaN</td>\n",
       "      <td>38.25</td>\n",
       "      <td>NaN</td>\n",
       "      <td>NaN</td>\n",
       "    </tr>\n",
       "    <tr>\n",
       "      <th>Household</th>\n",
       "      <td>NaN</td>\n",
       "      <td>66.00</td>\n",
       "      <td>NaN</td>\n",
       "      <td>NaN</td>\n",
       "      <td>45.00</td>\n",
       "      <td>82.80</td>\n",
       "      <td>NaN</td>\n",
       "      <td>NaN</td>\n",
       "      <td>85.60</td>\n",
       "      <td>NaN</td>\n",
       "      <td>52.56</td>\n",
       "      <td>NaN</td>\n",
       "      <td>NaN</td>\n",
       "    </tr>\n",
       "    <tr>\n",
       "      <th rowspan=\"4\" valign=\"top\">United Kingdom</th>\n",
       "      <th>Garden</th>\n",
       "      <td>42.60</td>\n",
       "      <td>49.87</td>\n",
       "      <td>68.73</td>\n",
       "      <td>53.07</td>\n",
       "      <td>48.28</td>\n",
       "      <td>22.50</td>\n",
       "      <td>98.66</td>\n",
       "      <td>134.65</td>\n",
       "      <td>30.00</td>\n",
       "      <td>503.05</td>\n",
       "      <td>32.31</td>\n",
       "      <td>393.60</td>\n",
       "      <td>25.28</td>\n",
       "    </tr>\n",
       "    <tr>\n",
       "      <th>Clothes</th>\n",
       "      <td>60.97</td>\n",
       "      <td>66.95</td>\n",
       "      <td>9.00</td>\n",
       "      <td>272.90</td>\n",
       "      <td>80.45</td>\n",
       "      <td>127.44</td>\n",
       "      <td>149.73</td>\n",
       "      <td>64.89</td>\n",
       "      <td>39.69</td>\n",
       "      <td>68.58</td>\n",
       "      <td>44.35</td>\n",
       "      <td>107.43</td>\n",
       "      <td>71.58</td>\n",
       "    </tr>\n",
       "    <tr>\n",
       "      <th>Kitchen</th>\n",
       "      <td>140.05</td>\n",
       "      <td>9.87</td>\n",
       "      <td>56.99</td>\n",
       "      <td>33.95</td>\n",
       "      <td>38.08</td>\n",
       "      <td>66.58</td>\n",
       "      <td>185.03</td>\n",
       "      <td>355.26</td>\n",
       "      <td>106.23</td>\n",
       "      <td>77.22</td>\n",
       "      <td>143.55</td>\n",
       "      <td>160.41</td>\n",
       "      <td>41.05</td>\n",
       "    </tr>\n",
       "    <tr>\n",
       "      <th>Household</th>\n",
       "      <td>48.19</td>\n",
       "      <td>31.07</td>\n",
       "      <td>478.00</td>\n",
       "      <td>44.55</td>\n",
       "      <td>220.62</td>\n",
       "      <td>172.47</td>\n",
       "      <td>30.09</td>\n",
       "      <td>63.32</td>\n",
       "      <td>37.30</td>\n",
       "      <td>86.09</td>\n",
       "      <td>58.24</td>\n",
       "      <td>181.39</td>\n",
       "      <td>50.77</td>\n",
       "    </tr>\n",
       "  </tbody>\n",
       "</table>\n",
       "</div>"
      ],
      "text/plain": [
       "Year-Month                        2010-12  2011-01  2011-02  2011-03  2011-04  \\\n",
       "Country           Major Category                                                \n",
       "        France         Garden       10.08    85.35    57.30   138.72      NaN   \n",
       "                      Clothes       41.70   137.85   108.30   162.15    15.00   \n",
       "                      Kitchen       18.35   197.80      NaN   192.60    15.30   \n",
       "                    Household       58.20   155.29    48.00    15.00      NaN   \n",
       "       Germany         Garden         NaN   127.80    23.60    35.55    20.80   \n",
       "                      Clothes         NaN    97.30    15.90      NaN      NaN   \n",
       "                      Kitchen      125.70    20.40      NaN    15.00     7.80   \n",
       "                    Household      102.00    33.60   381.00      NaN    69.40   \n",
       "     Australia         Garden         NaN    16.50    53.10    51.84      NaN   \n",
       "                      Clothes         NaN      NaN    68.00   735.36      NaN   \n",
       "                      Kitchen      147.50   139.20    51.84   557.60      NaN   \n",
       "                    Household         NaN   315.60   339.00    15.90      NaN   \n",
       "     Hong Kong         Garden         NaN    78.90      NaN      NaN    12.50   \n",
       "                      Clothes         NaN   450.90      NaN      NaN    15.60   \n",
       "                      Kitchen         NaN      NaN      NaN      NaN      NaN   \n",
       "                    Household         NaN    66.00      NaN      NaN    45.00   \n",
       "United Kingdom         Garden       42.60    49.87    68.73    53.07    48.28   \n",
       "                      Clothes       60.97    66.95     9.00   272.90    80.45   \n",
       "                      Kitchen      140.05     9.87    56.99    33.95    38.08   \n",
       "                    Household       48.19    31.07   478.00    44.55   220.62   \n",
       "\n",
       "Year-Month                        2011-05  2011-06  2011-07  2011-08  2011-09  \\\n",
       "Country           Major Category                                                \n",
       "        France         Garden      168.12   303.60    24.36   667.38    87.28   \n",
       "                      Clothes       48.50    65.10    30.00    92.06    53.04   \n",
       "                      Kitchen      133.76    67.90    82.00    39.60   155.42   \n",
       "                    Household       42.44    77.40   108.50    40.30    83.84   \n",
       "       Germany         Garden      534.00    48.30    49.55    49.65    17.70   \n",
       "                      Clothes       85.50    29.88   110.46    39.90   177.30   \n",
       "                      Kitchen      133.80     8.50    61.98      NaN    22.26   \n",
       "                    Household         NaN    51.70      NaN    48.00      NaN   \n",
       "     Australia         Garden         NaN   222.00      NaN      NaN   689.10   \n",
       "                      Clothes      237.60      NaN    30.60      NaN    90.27   \n",
       "                      Kitchen      245.70   256.00   412.36   433.38   228.60   \n",
       "                    Household      106.08   270.00    34.30   124.80      NaN   \n",
       "     Hong Kong         Garden       91.15    15.00      NaN   248.10      NaN   \n",
       "                      Clothes       33.50      NaN      NaN    79.60      NaN   \n",
       "                      Kitchen       62.40      NaN      NaN   165.60      NaN   \n",
       "                    Household       82.80      NaN      NaN    85.60      NaN   \n",
       "United Kingdom         Garden       22.50    98.66   134.65    30.00   503.05   \n",
       "                      Clothes      127.44   149.73    64.89    39.69    68.58   \n",
       "                      Kitchen       66.58   185.03   355.26   106.23    77.22   \n",
       "                    Household      172.47    30.09    63.32    37.30    86.09   \n",
       "\n",
       "Year-Month                        2011-10  2011-11  2011-12  \n",
       "Country           Major Category                             \n",
       "        France         Garden       27.50   292.39    26.32  \n",
       "                      Clothes      297.16   196.53    62.40  \n",
       "                      Kitchen      171.60   442.98    19.80  \n",
       "                    Household       80.88   176.41    16.60  \n",
       "       Germany         Garden       48.00   131.90    30.00  \n",
       "                      Clothes       57.05    31.00      NaN  \n",
       "                      Kitchen       45.25   119.00      NaN  \n",
       "                    Household       17.16    74.94    55.08  \n",
       "     Australia         Garden       20.80    18.24      NaN  \n",
       "                      Clothes         NaN    69.12      NaN  \n",
       "                      Kitchen         NaN   158.40      NaN  \n",
       "                    Household      211.10      NaN      NaN  \n",
       "     Hong Kong         Garden       15.00      NaN      NaN  \n",
       "                      Clothes       21.78      NaN      NaN  \n",
       "                      Kitchen       38.25      NaN      NaN  \n",
       "                    Household       52.56      NaN      NaN  \n",
       "United Kingdom         Garden       32.31   393.60    25.28  \n",
       "                      Clothes       44.35   107.43    71.58  \n",
       "                      Kitchen      143.55   160.41    41.05  \n",
       "                    Household       58.24   181.39    50.77  "
      ]
     },
     "execution_count": 30,
     "metadata": {},
     "output_type": "execute_result"
    }
   ],
   "source": [
    "round(pd.pivot_table(data=df, values=\"OrderValue\", index=[\"Country\",\"Major Category\"], columns=\"Year-Month\", aggfunc=\"sum\"),2)"
   ]
  },
  {
   "cell_type": "markdown",
   "id": "b0370421",
   "metadata": {},
   "source": [
    "### 14 - Order Value For each Country and Major Category in Minor Category\n"
   ]
  },
  {
   "cell_type": "code",
   "execution_count": 31,
   "id": "48d70efc",
   "metadata": {},
   "outputs": [
    {
     "data": {
      "text/html": [
       "<div>\n",
       "<style scoped>\n",
       "    .dataframe tbody tr th:only-of-type {\n",
       "        vertical-align: middle;\n",
       "    }\n",
       "\n",
       "    .dataframe tbody tr th {\n",
       "        vertical-align: top;\n",
       "    }\n",
       "\n",
       "    .dataframe thead th {\n",
       "        text-align: right;\n",
       "    }\n",
       "</style>\n",
       "<table border=\"1\" class=\"dataframe\">\n",
       "  <thead>\n",
       "    <tr style=\"text-align: right;\">\n",
       "      <th></th>\n",
       "      <th>Hours</th>\n",
       "      <th>7</th>\n",
       "      <th>8</th>\n",
       "      <th>9</th>\n",
       "      <th>10</th>\n",
       "      <th>11</th>\n",
       "      <th>12</th>\n",
       "      <th>13</th>\n",
       "      <th>14</th>\n",
       "      <th>15</th>\n",
       "      <th>16</th>\n",
       "      <th>17</th>\n",
       "      <th>18</th>\n",
       "      <th>19</th>\n",
       "      <th>20</th>\n",
       "    </tr>\n",
       "    <tr>\n",
       "      <th>Country</th>\n",
       "      <th>Major Category</th>\n",
       "      <th></th>\n",
       "      <th></th>\n",
       "      <th></th>\n",
       "      <th></th>\n",
       "      <th></th>\n",
       "      <th></th>\n",
       "      <th></th>\n",
       "      <th></th>\n",
       "      <th></th>\n",
       "      <th></th>\n",
       "      <th></th>\n",
       "      <th></th>\n",
       "      <th></th>\n",
       "      <th></th>\n",
       "    </tr>\n",
       "  </thead>\n",
       "  <tbody>\n",
       "    <tr>\n",
       "      <th rowspan=\"4\" valign=\"top\">France</th>\n",
       "      <th>Garden</th>\n",
       "      <td>NaN</td>\n",
       "      <td>10.08</td>\n",
       "      <td>24.54</td>\n",
       "      <td>22.85</td>\n",
       "      <td>83.93</td>\n",
       "      <td>18.32</td>\n",
       "      <td>18.16</td>\n",
       "      <td>16.06</td>\n",
       "      <td>27.32</td>\n",
       "      <td>9.12</td>\n",
       "      <td>21.25</td>\n",
       "      <td>NaN</td>\n",
       "      <td>NaN</td>\n",
       "      <td>NaN</td>\n",
       "    </tr>\n",
       "    <tr>\n",
       "      <th>Clothes</th>\n",
       "      <td>244.8</td>\n",
       "      <td>34.00</td>\n",
       "      <td>26.59</td>\n",
       "      <td>14.61</td>\n",
       "      <td>41.83</td>\n",
       "      <td>40.20</td>\n",
       "      <td>21.82</td>\n",
       "      <td>17.24</td>\n",
       "      <td>19.98</td>\n",
       "      <td>28.20</td>\n",
       "      <td>NaN</td>\n",
       "      <td>NaN</td>\n",
       "      <td>NaN</td>\n",
       "      <td>NaN</td>\n",
       "    </tr>\n",
       "    <tr>\n",
       "      <th>Kitchen</th>\n",
       "      <td>NaN</td>\n",
       "      <td>28.20</td>\n",
       "      <td>29.37</td>\n",
       "      <td>22.84</td>\n",
       "      <td>55.48</td>\n",
       "      <td>15.34</td>\n",
       "      <td>40.30</td>\n",
       "      <td>33.20</td>\n",
       "      <td>25.34</td>\n",
       "      <td>6.41</td>\n",
       "      <td>NaN</td>\n",
       "      <td>NaN</td>\n",
       "      <td>NaN</td>\n",
       "      <td>NaN</td>\n",
       "    </tr>\n",
       "    <tr>\n",
       "      <th>Household</th>\n",
       "      <td>NaN</td>\n",
       "      <td>NaN</td>\n",
       "      <td>35.40</td>\n",
       "      <td>24.43</td>\n",
       "      <td>32.88</td>\n",
       "      <td>17.29</td>\n",
       "      <td>15.43</td>\n",
       "      <td>24.04</td>\n",
       "      <td>18.91</td>\n",
       "      <td>18.20</td>\n",
       "      <td>NaN</td>\n",
       "      <td>NaN</td>\n",
       "      <td>NaN</td>\n",
       "      <td>NaN</td>\n",
       "    </tr>\n",
       "    <tr>\n",
       "      <th rowspan=\"4\" valign=\"top\">Germany</th>\n",
       "      <th>Garden</th>\n",
       "      <td>NaN</td>\n",
       "      <td>34.27</td>\n",
       "      <td>45.41</td>\n",
       "      <td>19.79</td>\n",
       "      <td>16.37</td>\n",
       "      <td>14.10</td>\n",
       "      <td>32.70</td>\n",
       "      <td>202.38</td>\n",
       "      <td>17.58</td>\n",
       "      <td>NaN</td>\n",
       "      <td>NaN</td>\n",
       "      <td>NaN</td>\n",
       "      <td>NaN</td>\n",
       "      <td>NaN</td>\n",
       "    </tr>\n",
       "    <tr>\n",
       "      <th>Clothes</th>\n",
       "      <td>NaN</td>\n",
       "      <td>NaN</td>\n",
       "      <td>32.10</td>\n",
       "      <td>14.97</td>\n",
       "      <td>13.42</td>\n",
       "      <td>18.46</td>\n",
       "      <td>33.95</td>\n",
       "      <td>11.85</td>\n",
       "      <td>27.56</td>\n",
       "      <td>16.50</td>\n",
       "      <td>NaN</td>\n",
       "      <td>NaN</td>\n",
       "      <td>NaN</td>\n",
       "      <td>NaN</td>\n",
       "    </tr>\n",
       "    <tr>\n",
       "      <th>Kitchen</th>\n",
       "      <td>NaN</td>\n",
       "      <td>NaN</td>\n",
       "      <td>11.85</td>\n",
       "      <td>23.04</td>\n",
       "      <td>89.70</td>\n",
       "      <td>13.68</td>\n",
       "      <td>16.85</td>\n",
       "      <td>32.87</td>\n",
       "      <td>31.08</td>\n",
       "      <td>NaN</td>\n",
       "      <td>15.00</td>\n",
       "      <td>NaN</td>\n",
       "      <td>NaN</td>\n",
       "      <td>NaN</td>\n",
       "    </tr>\n",
       "    <tr>\n",
       "      <th>Household</th>\n",
       "      <td>NaN</td>\n",
       "      <td>4.68</td>\n",
       "      <td>48.75</td>\n",
       "      <td>104.02</td>\n",
       "      <td>7.59</td>\n",
       "      <td>17.70</td>\n",
       "      <td>32.72</td>\n",
       "      <td>17.56</td>\n",
       "      <td>17.70</td>\n",
       "      <td>NaN</td>\n",
       "      <td>15.00</td>\n",
       "      <td>NaN</td>\n",
       "      <td>NaN</td>\n",
       "      <td>NaN</td>\n",
       "    </tr>\n",
       "    <tr>\n",
       "      <th rowspan=\"4\" valign=\"top\">Australia</th>\n",
       "      <th>Garden</th>\n",
       "      <td>NaN</td>\n",
       "      <td>NaN</td>\n",
       "      <td>18.65</td>\n",
       "      <td>51.84</td>\n",
       "      <td>NaN</td>\n",
       "      <td>17.07</td>\n",
       "      <td>427.80</td>\n",
       "      <td>39.60</td>\n",
       "      <td>53.10</td>\n",
       "      <td>NaN</td>\n",
       "      <td>NaN</td>\n",
       "      <td>NaN</td>\n",
       "      <td>NaN</td>\n",
       "      <td>NaN</td>\n",
       "    </tr>\n",
       "    <tr>\n",
       "      <th>Clothes</th>\n",
       "      <td>NaN</td>\n",
       "      <td>NaN</td>\n",
       "      <td>68.00</td>\n",
       "      <td>201.12</td>\n",
       "      <td>52.02</td>\n",
       "      <td>14.85</td>\n",
       "      <td>30.60</td>\n",
       "      <td>NaN</td>\n",
       "      <td>130.50</td>\n",
       "      <td>NaN</td>\n",
       "      <td>NaN</td>\n",
       "      <td>NaN</td>\n",
       "      <td>NaN</td>\n",
       "      <td>NaN</td>\n",
       "    </tr>\n",
       "    <tr>\n",
       "      <th>Kitchen</th>\n",
       "      <td>NaN</td>\n",
       "      <td>208.44</td>\n",
       "      <td>59.67</td>\n",
       "      <td>227.13</td>\n",
       "      <td>139.20</td>\n",
       "      <td>19.80</td>\n",
       "      <td>128.10</td>\n",
       "      <td>82.00</td>\n",
       "      <td>288.78</td>\n",
       "      <td>NaN</td>\n",
       "      <td>NaN</td>\n",
       "      <td>NaN</td>\n",
       "      <td>NaN</td>\n",
       "      <td>NaN</td>\n",
       "    </tr>\n",
       "    <tr>\n",
       "      <th>Household</th>\n",
       "      <td>NaN</td>\n",
       "      <td>124.80</td>\n",
       "      <td>176.80</td>\n",
       "      <td>16.60</td>\n",
       "      <td>157.80</td>\n",
       "      <td>93.60</td>\n",
       "      <td>95.30</td>\n",
       "      <td>27.00</td>\n",
       "      <td>53.04</td>\n",
       "      <td>NaN</td>\n",
       "      <td>NaN</td>\n",
       "      <td>NaN</td>\n",
       "      <td>NaN</td>\n",
       "      <td>NaN</td>\n",
       "    </tr>\n",
       "    <tr>\n",
       "      <th rowspan=\"4\" valign=\"top\">Hong Kong</th>\n",
       "      <th>Garden</th>\n",
       "      <td>NaN</td>\n",
       "      <td>NaN</td>\n",
       "      <td>43.43</td>\n",
       "      <td>15.00</td>\n",
       "      <td>NaN</td>\n",
       "      <td>15.00</td>\n",
       "      <td>NaN</td>\n",
       "      <td>24.29</td>\n",
       "      <td>NaN</td>\n",
       "      <td>NaN</td>\n",
       "      <td>NaN</td>\n",
       "      <td>NaN</td>\n",
       "      <td>NaN</td>\n",
       "      <td>NaN</td>\n",
       "    </tr>\n",
       "    <tr>\n",
       "      <th>Clothes</th>\n",
       "      <td>NaN</td>\n",
       "      <td>NaN</td>\n",
       "      <td>23.80</td>\n",
       "      <td>NaN</td>\n",
       "      <td>NaN</td>\n",
       "      <td>10.89</td>\n",
       "      <td>NaN</td>\n",
       "      <td>60.55</td>\n",
       "      <td>NaN</td>\n",
       "      <td>NaN</td>\n",
       "      <td>NaN</td>\n",
       "      <td>NaN</td>\n",
       "      <td>NaN</td>\n",
       "      <td>NaN</td>\n",
       "    </tr>\n",
       "    <tr>\n",
       "      <th>Kitchen</th>\n",
       "      <td>NaN</td>\n",
       "      <td>23.40</td>\n",
       "      <td>82.80</td>\n",
       "      <td>NaN</td>\n",
       "      <td>NaN</td>\n",
       "      <td>14.85</td>\n",
       "      <td>NaN</td>\n",
       "      <td>15.60</td>\n",
       "      <td>NaN</td>\n",
       "      <td>NaN</td>\n",
       "      <td>NaN</td>\n",
       "      <td>NaN</td>\n",
       "      <td>NaN</td>\n",
       "      <td>NaN</td>\n",
       "    </tr>\n",
       "    <tr>\n",
       "      <th>Household</th>\n",
       "      <td>NaN</td>\n",
       "      <td>NaN</td>\n",
       "      <td>32.65</td>\n",
       "      <td>NaN</td>\n",
       "      <td>NaN</td>\n",
       "      <td>17.52</td>\n",
       "      <td>NaN</td>\n",
       "      <td>24.80</td>\n",
       "      <td>NaN</td>\n",
       "      <td>NaN</td>\n",
       "      <td>NaN</td>\n",
       "      <td>NaN</td>\n",
       "      <td>NaN</td>\n",
       "      <td>NaN</td>\n",
       "    </tr>\n",
       "    <tr>\n",
       "      <th rowspan=\"4\" valign=\"top\">United Kingdom</th>\n",
       "      <th>Garden</th>\n",
       "      <td>NaN</td>\n",
       "      <td>36.00</td>\n",
       "      <td>16.59</td>\n",
       "      <td>16.29</td>\n",
       "      <td>11.63</td>\n",
       "      <td>11.09</td>\n",
       "      <td>16.08</td>\n",
       "      <td>53.83</td>\n",
       "      <td>27.01</td>\n",
       "      <td>19.24</td>\n",
       "      <td>5.41</td>\n",
       "      <td>7.04</td>\n",
       "      <td>NaN</td>\n",
       "      <td>NaN</td>\n",
       "    </tr>\n",
       "    <tr>\n",
       "      <th>Clothes</th>\n",
       "      <td>NaN</td>\n",
       "      <td>16.50</td>\n",
       "      <td>16.18</td>\n",
       "      <td>10.76</td>\n",
       "      <td>20.56</td>\n",
       "      <td>19.87</td>\n",
       "      <td>8.33</td>\n",
       "      <td>12.08</td>\n",
       "      <td>18.85</td>\n",
       "      <td>1.78</td>\n",
       "      <td>16.33</td>\n",
       "      <td>0.84</td>\n",
       "      <td>NaN</td>\n",
       "      <td>2.95</td>\n",
       "    </tr>\n",
       "    <tr>\n",
       "      <th>Kitchen</th>\n",
       "      <td>NaN</td>\n",
       "      <td>11.90</td>\n",
       "      <td>18.65</td>\n",
       "      <td>16.07</td>\n",
       "      <td>36.45</td>\n",
       "      <td>12.04</td>\n",
       "      <td>23.82</td>\n",
       "      <td>14.32</td>\n",
       "      <td>37.34</td>\n",
       "      <td>6.85</td>\n",
       "      <td>14.23</td>\n",
       "      <td>NaN</td>\n",
       "      <td>NaN</td>\n",
       "      <td>NaN</td>\n",
       "    </tr>\n",
       "    <tr>\n",
       "      <th>Household</th>\n",
       "      <td>NaN</td>\n",
       "      <td>7.44</td>\n",
       "      <td>26.74</td>\n",
       "      <td>103.27</td>\n",
       "      <td>6.04</td>\n",
       "      <td>13.69</td>\n",
       "      <td>13.54</td>\n",
       "      <td>10.62</td>\n",
       "      <td>9.00</td>\n",
       "      <td>4.54</td>\n",
       "      <td>5.49</td>\n",
       "      <td>NaN</td>\n",
       "      <td>10.5</td>\n",
       "      <td>NaN</td>\n",
       "    </tr>\n",
       "  </tbody>\n",
       "</table>\n",
       "</div>"
      ],
      "text/plain": [
       "Hours                                7       8       9       10      11  \\\n",
       "Country           Major Category                                          \n",
       "        France         Garden       NaN   10.08   24.54   22.85   83.93   \n",
       "                      Clothes     244.8   34.00   26.59   14.61   41.83   \n",
       "                      Kitchen       NaN   28.20   29.37   22.84   55.48   \n",
       "                    Household       NaN     NaN   35.40   24.43   32.88   \n",
       "       Germany         Garden       NaN   34.27   45.41   19.79   16.37   \n",
       "                      Clothes       NaN     NaN   32.10   14.97   13.42   \n",
       "                      Kitchen       NaN     NaN   11.85   23.04   89.70   \n",
       "                    Household       NaN    4.68   48.75  104.02    7.59   \n",
       "     Australia         Garden       NaN     NaN   18.65   51.84     NaN   \n",
       "                      Clothes       NaN     NaN   68.00  201.12   52.02   \n",
       "                      Kitchen       NaN  208.44   59.67  227.13  139.20   \n",
       "                    Household       NaN  124.80  176.80   16.60  157.80   \n",
       "     Hong Kong         Garden       NaN     NaN   43.43   15.00     NaN   \n",
       "                      Clothes       NaN     NaN   23.80     NaN     NaN   \n",
       "                      Kitchen       NaN   23.40   82.80     NaN     NaN   \n",
       "                    Household       NaN     NaN   32.65     NaN     NaN   \n",
       "United Kingdom         Garden       NaN   36.00   16.59   16.29   11.63   \n",
       "                      Clothes       NaN   16.50   16.18   10.76   20.56   \n",
       "                      Kitchen       NaN   11.90   18.65   16.07   36.45   \n",
       "                    Household       NaN    7.44   26.74  103.27    6.04   \n",
       "\n",
       "Hours                                12      13      14      15     16     17  \\\n",
       "Country           Major Category                                                \n",
       "        France         Garden     18.32   18.16   16.06   27.32   9.12  21.25   \n",
       "                      Clothes     40.20   21.82   17.24   19.98  28.20    NaN   \n",
       "                      Kitchen     15.34   40.30   33.20   25.34   6.41    NaN   \n",
       "                    Household     17.29   15.43   24.04   18.91  18.20    NaN   \n",
       "       Germany         Garden     14.10   32.70  202.38   17.58    NaN    NaN   \n",
       "                      Clothes     18.46   33.95   11.85   27.56  16.50    NaN   \n",
       "                      Kitchen     13.68   16.85   32.87   31.08    NaN  15.00   \n",
       "                    Household     17.70   32.72   17.56   17.70    NaN  15.00   \n",
       "     Australia         Garden     17.07  427.80   39.60   53.10    NaN    NaN   \n",
       "                      Clothes     14.85   30.60     NaN  130.50    NaN    NaN   \n",
       "                      Kitchen     19.80  128.10   82.00  288.78    NaN    NaN   \n",
       "                    Household     93.60   95.30   27.00   53.04    NaN    NaN   \n",
       "     Hong Kong         Garden     15.00     NaN   24.29     NaN    NaN    NaN   \n",
       "                      Clothes     10.89     NaN   60.55     NaN    NaN    NaN   \n",
       "                      Kitchen     14.85     NaN   15.60     NaN    NaN    NaN   \n",
       "                    Household     17.52     NaN   24.80     NaN    NaN    NaN   \n",
       "United Kingdom         Garden     11.09   16.08   53.83   27.01  19.24   5.41   \n",
       "                      Clothes     19.87    8.33   12.08   18.85   1.78  16.33   \n",
       "                      Kitchen     12.04   23.82   14.32   37.34   6.85  14.23   \n",
       "                    Household     13.69   13.54   10.62    9.00   4.54   5.49   \n",
       "\n",
       "Hours                               18    19    20  \n",
       "Country           Major Category                    \n",
       "        France         Garden      NaN   NaN   NaN  \n",
       "                      Clothes      NaN   NaN   NaN  \n",
       "                      Kitchen      NaN   NaN   NaN  \n",
       "                    Household      NaN   NaN   NaN  \n",
       "       Germany         Garden      NaN   NaN   NaN  \n",
       "                      Clothes      NaN   NaN   NaN  \n",
       "                      Kitchen      NaN   NaN   NaN  \n",
       "                    Household      NaN   NaN   NaN  \n",
       "     Australia         Garden      NaN   NaN   NaN  \n",
       "                      Clothes      NaN   NaN   NaN  \n",
       "                      Kitchen      NaN   NaN   NaN  \n",
       "                    Household      NaN   NaN   NaN  \n",
       "     Hong Kong         Garden      NaN   NaN   NaN  \n",
       "                      Clothes      NaN   NaN   NaN  \n",
       "                      Kitchen      NaN   NaN   NaN  \n",
       "                    Household      NaN   NaN   NaN  \n",
       "United Kingdom         Garden     7.04   NaN   NaN  \n",
       "                      Clothes     0.84   NaN  2.95  \n",
       "                      Kitchen      NaN   NaN   NaN  \n",
       "                    Household      NaN  10.5   NaN  "
      ]
     },
     "execution_count": 31,
     "metadata": {},
     "output_type": "execute_result"
    }
   ],
   "source": [
    "round(pd.pivot_table(data=df, values=\"OrderValue\", index=[\"Country\",\"Major Category\"], columns=\"Hours\"),2)"
   ]
  },
  {
   "cell_type": "code",
   "execution_count": 8,
   "id": "d7e103ac",
   "metadata": {},
   "outputs": [
    {
     "data": {
      "application/vnd.plotly.v1+json": {
       "config": {
        "plotlyServerURL": "https://plot.ly"
       },
       "data": [
        {
         "coloraxis": "coloraxis",
         "hovertemplate": "x: %{x}<br>y: %{y}<br>color: %{z}<extra></extra>",
         "name": "0",
         "texttemplate": "%{z}",
         "type": "heatmap",
         "x": [
          "Quantit",
          "OrderValue",
          "UnitPrice"
         ],
         "xaxis": "x",
         "y": [
          "Quantit",
          "OrderValue",
          "UnitPrice"
         ],
         "yaxis": "y",
         "z": [
          [
           1,
           0.697,
           -0.072
          ],
          [
           0.697,
           1,
           0.123
          ],
          [
           -0.072,
           0.123,
           1
          ]
         ]
        }
       ],
       "layout": {
        "coloraxis": {
         "colorscale": [
          [
           0,
           "rgb(241, 236, 236)"
          ],
          [
           0.09090909090909091,
           "rgb(230, 209, 203)"
          ],
          [
           0.18181818181818182,
           "rgb(221, 182, 170)"
          ],
          [
           0.2727272727272727,
           "rgb(213, 156, 137)"
          ],
          [
           0.36363636363636365,
           "rgb(205, 129, 103)"
          ],
          [
           0.45454545454545453,
           "rgb(196, 102, 73)"
          ],
          [
           0.5454545454545454,
           "rgb(186, 74, 47)"
          ],
          [
           0.6363636363636364,
           "rgb(172, 44, 36)"
          ],
          [
           0.7272727272727273,
           "rgb(149, 19, 39)"
          ],
          [
           0.8181818181818182,
           "rgb(120, 14, 40)"
          ],
          [
           0.9090909090909091,
           "rgb(89, 13, 31)"
          ],
          [
           1,
           "rgb(60, 9, 17)"
          ]
         ]
        },
        "margin": {
         "t": 60
        },
        "template": {
         "data": {
          "bar": [
           {
            "error_x": {
             "color": "#2a3f5f"
            },
            "error_y": {
             "color": "#2a3f5f"
            },
            "marker": {
             "line": {
              "color": "#E5ECF6",
              "width": 0.5
             },
             "pattern": {
              "fillmode": "overlay",
              "size": 10,
              "solidity": 0.2
             }
            },
            "type": "bar"
           }
          ],
          "barpolar": [
           {
            "marker": {
             "line": {
              "color": "#E5ECF6",
              "width": 0.5
             },
             "pattern": {
              "fillmode": "overlay",
              "size": 10,
              "solidity": 0.2
             }
            },
            "type": "barpolar"
           }
          ],
          "carpet": [
           {
            "aaxis": {
             "endlinecolor": "#2a3f5f",
             "gridcolor": "white",
             "linecolor": "white",
             "minorgridcolor": "white",
             "startlinecolor": "#2a3f5f"
            },
            "baxis": {
             "endlinecolor": "#2a3f5f",
             "gridcolor": "white",
             "linecolor": "white",
             "minorgridcolor": "white",
             "startlinecolor": "#2a3f5f"
            },
            "type": "carpet"
           }
          ],
          "choropleth": [
           {
            "colorbar": {
             "outlinewidth": 0,
             "ticks": ""
            },
            "type": "choropleth"
           }
          ],
          "contour": [
           {
            "colorbar": {
             "outlinewidth": 0,
             "ticks": ""
            },
            "colorscale": [
             [
              0,
              "#0d0887"
             ],
             [
              0.1111111111111111,
              "#46039f"
             ],
             [
              0.2222222222222222,
              "#7201a8"
             ],
             [
              0.3333333333333333,
              "#9c179e"
             ],
             [
              0.4444444444444444,
              "#bd3786"
             ],
             [
              0.5555555555555556,
              "#d8576b"
             ],
             [
              0.6666666666666666,
              "#ed7953"
             ],
             [
              0.7777777777777778,
              "#fb9f3a"
             ],
             [
              0.8888888888888888,
              "#fdca26"
             ],
             [
              1,
              "#f0f921"
             ]
            ],
            "type": "contour"
           }
          ],
          "contourcarpet": [
           {
            "colorbar": {
             "outlinewidth": 0,
             "ticks": ""
            },
            "type": "contourcarpet"
           }
          ],
          "heatmap": [
           {
            "colorbar": {
             "outlinewidth": 0,
             "ticks": ""
            },
            "colorscale": [
             [
              0,
              "#0d0887"
             ],
             [
              0.1111111111111111,
              "#46039f"
             ],
             [
              0.2222222222222222,
              "#7201a8"
             ],
             [
              0.3333333333333333,
              "#9c179e"
             ],
             [
              0.4444444444444444,
              "#bd3786"
             ],
             [
              0.5555555555555556,
              "#d8576b"
             ],
             [
              0.6666666666666666,
              "#ed7953"
             ],
             [
              0.7777777777777778,
              "#fb9f3a"
             ],
             [
              0.8888888888888888,
              "#fdca26"
             ],
             [
              1,
              "#f0f921"
             ]
            ],
            "type": "heatmap"
           }
          ],
          "heatmapgl": [
           {
            "colorbar": {
             "outlinewidth": 0,
             "ticks": ""
            },
            "colorscale": [
             [
              0,
              "#0d0887"
             ],
             [
              0.1111111111111111,
              "#46039f"
             ],
             [
              0.2222222222222222,
              "#7201a8"
             ],
             [
              0.3333333333333333,
              "#9c179e"
             ],
             [
              0.4444444444444444,
              "#bd3786"
             ],
             [
              0.5555555555555556,
              "#d8576b"
             ],
             [
              0.6666666666666666,
              "#ed7953"
             ],
             [
              0.7777777777777778,
              "#fb9f3a"
             ],
             [
              0.8888888888888888,
              "#fdca26"
             ],
             [
              1,
              "#f0f921"
             ]
            ],
            "type": "heatmapgl"
           }
          ],
          "histogram": [
           {
            "marker": {
             "pattern": {
              "fillmode": "overlay",
              "size": 10,
              "solidity": 0.2
             }
            },
            "type": "histogram"
           }
          ],
          "histogram2d": [
           {
            "colorbar": {
             "outlinewidth": 0,
             "ticks": ""
            },
            "colorscale": [
             [
              0,
              "#0d0887"
             ],
             [
              0.1111111111111111,
              "#46039f"
             ],
             [
              0.2222222222222222,
              "#7201a8"
             ],
             [
              0.3333333333333333,
              "#9c179e"
             ],
             [
              0.4444444444444444,
              "#bd3786"
             ],
             [
              0.5555555555555556,
              "#d8576b"
             ],
             [
              0.6666666666666666,
              "#ed7953"
             ],
             [
              0.7777777777777778,
              "#fb9f3a"
             ],
             [
              0.8888888888888888,
              "#fdca26"
             ],
             [
              1,
              "#f0f921"
             ]
            ],
            "type": "histogram2d"
           }
          ],
          "histogram2dcontour": [
           {
            "colorbar": {
             "outlinewidth": 0,
             "ticks": ""
            },
            "colorscale": [
             [
              0,
              "#0d0887"
             ],
             [
              0.1111111111111111,
              "#46039f"
             ],
             [
              0.2222222222222222,
              "#7201a8"
             ],
             [
              0.3333333333333333,
              "#9c179e"
             ],
             [
              0.4444444444444444,
              "#bd3786"
             ],
             [
              0.5555555555555556,
              "#d8576b"
             ],
             [
              0.6666666666666666,
              "#ed7953"
             ],
             [
              0.7777777777777778,
              "#fb9f3a"
             ],
             [
              0.8888888888888888,
              "#fdca26"
             ],
             [
              1,
              "#f0f921"
             ]
            ],
            "type": "histogram2dcontour"
           }
          ],
          "mesh3d": [
           {
            "colorbar": {
             "outlinewidth": 0,
             "ticks": ""
            },
            "type": "mesh3d"
           }
          ],
          "parcoords": [
           {
            "line": {
             "colorbar": {
              "outlinewidth": 0,
              "ticks": ""
             }
            },
            "type": "parcoords"
           }
          ],
          "pie": [
           {
            "automargin": true,
            "type": "pie"
           }
          ],
          "scatter": [
           {
            "fillpattern": {
             "fillmode": "overlay",
             "size": 10,
             "solidity": 0.2
            },
            "type": "scatter"
           }
          ],
          "scatter3d": [
           {
            "line": {
             "colorbar": {
              "outlinewidth": 0,
              "ticks": ""
             }
            },
            "marker": {
             "colorbar": {
              "outlinewidth": 0,
              "ticks": ""
             }
            },
            "type": "scatter3d"
           }
          ],
          "scattercarpet": [
           {
            "marker": {
             "colorbar": {
              "outlinewidth": 0,
              "ticks": ""
             }
            },
            "type": "scattercarpet"
           }
          ],
          "scattergeo": [
           {
            "marker": {
             "colorbar": {
              "outlinewidth": 0,
              "ticks": ""
             }
            },
            "type": "scattergeo"
           }
          ],
          "scattergl": [
           {
            "marker": {
             "colorbar": {
              "outlinewidth": 0,
              "ticks": ""
             }
            },
            "type": "scattergl"
           }
          ],
          "scattermapbox": [
           {
            "marker": {
             "colorbar": {
              "outlinewidth": 0,
              "ticks": ""
             }
            },
            "type": "scattermapbox"
           }
          ],
          "scatterpolar": [
           {
            "marker": {
             "colorbar": {
              "outlinewidth": 0,
              "ticks": ""
             }
            },
            "type": "scatterpolar"
           }
          ],
          "scatterpolargl": [
           {
            "marker": {
             "colorbar": {
              "outlinewidth": 0,
              "ticks": ""
             }
            },
            "type": "scatterpolargl"
           }
          ],
          "scatterternary": [
           {
            "marker": {
             "colorbar": {
              "outlinewidth": 0,
              "ticks": ""
             }
            },
            "type": "scatterternary"
           }
          ],
          "surface": [
           {
            "colorbar": {
             "outlinewidth": 0,
             "ticks": ""
            },
            "colorscale": [
             [
              0,
              "#0d0887"
             ],
             [
              0.1111111111111111,
              "#46039f"
             ],
             [
              0.2222222222222222,
              "#7201a8"
             ],
             [
              0.3333333333333333,
              "#9c179e"
             ],
             [
              0.4444444444444444,
              "#bd3786"
             ],
             [
              0.5555555555555556,
              "#d8576b"
             ],
             [
              0.6666666666666666,
              "#ed7953"
             ],
             [
              0.7777777777777778,
              "#fb9f3a"
             ],
             [
              0.8888888888888888,
              "#fdca26"
             ],
             [
              1,
              "#f0f921"
             ]
            ],
            "type": "surface"
           }
          ],
          "table": [
           {
            "cells": {
             "fill": {
              "color": "#EBF0F8"
             },
             "line": {
              "color": "white"
             }
            },
            "header": {
             "fill": {
              "color": "#C8D4E3"
             },
             "line": {
              "color": "white"
             }
            },
            "type": "table"
           }
          ]
         },
         "layout": {
          "annotationdefaults": {
           "arrowcolor": "#2a3f5f",
           "arrowhead": 0,
           "arrowwidth": 1
          },
          "autotypenumbers": "strict",
          "coloraxis": {
           "colorbar": {
            "outlinewidth": 0,
            "ticks": ""
           }
          },
          "colorscale": {
           "diverging": [
            [
             0,
             "#8e0152"
            ],
            [
             0.1,
             "#c51b7d"
            ],
            [
             0.2,
             "#de77ae"
            ],
            [
             0.3,
             "#f1b6da"
            ],
            [
             0.4,
             "#fde0ef"
            ],
            [
             0.5,
             "#f7f7f7"
            ],
            [
             0.6,
             "#e6f5d0"
            ],
            [
             0.7,
             "#b8e186"
            ],
            [
             0.8,
             "#7fbc41"
            ],
            [
             0.9,
             "#4d9221"
            ],
            [
             1,
             "#276419"
            ]
           ],
           "sequential": [
            [
             0,
             "#0d0887"
            ],
            [
             0.1111111111111111,
             "#46039f"
            ],
            [
             0.2222222222222222,
             "#7201a8"
            ],
            [
             0.3333333333333333,
             "#9c179e"
            ],
            [
             0.4444444444444444,
             "#bd3786"
            ],
            [
             0.5555555555555556,
             "#d8576b"
            ],
            [
             0.6666666666666666,
             "#ed7953"
            ],
            [
             0.7777777777777778,
             "#fb9f3a"
            ],
            [
             0.8888888888888888,
             "#fdca26"
            ],
            [
             1,
             "#f0f921"
            ]
           ],
           "sequentialminus": [
            [
             0,
             "#0d0887"
            ],
            [
             0.1111111111111111,
             "#46039f"
            ],
            [
             0.2222222222222222,
             "#7201a8"
            ],
            [
             0.3333333333333333,
             "#9c179e"
            ],
            [
             0.4444444444444444,
             "#bd3786"
            ],
            [
             0.5555555555555556,
             "#d8576b"
            ],
            [
             0.6666666666666666,
             "#ed7953"
            ],
            [
             0.7777777777777778,
             "#fb9f3a"
            ],
            [
             0.8888888888888888,
             "#fdca26"
            ],
            [
             1,
             "#f0f921"
            ]
           ]
          },
          "colorway": [
           "#636efa",
           "#EF553B",
           "#00cc96",
           "#ab63fa",
           "#FFA15A",
           "#19d3f3",
           "#FF6692",
           "#B6E880",
           "#FF97FF",
           "#FECB52"
          ],
          "font": {
           "color": "#2a3f5f"
          },
          "geo": {
           "bgcolor": "white",
           "lakecolor": "white",
           "landcolor": "#E5ECF6",
           "showlakes": true,
           "showland": true,
           "subunitcolor": "white"
          },
          "hoverlabel": {
           "align": "left"
          },
          "hovermode": "closest",
          "mapbox": {
           "style": "light"
          },
          "paper_bgcolor": "white",
          "plot_bgcolor": "#E5ECF6",
          "polar": {
           "angularaxis": {
            "gridcolor": "white",
            "linecolor": "white",
            "ticks": ""
           },
           "bgcolor": "#E5ECF6",
           "radialaxis": {
            "gridcolor": "white",
            "linecolor": "white",
            "ticks": ""
           }
          },
          "scene": {
           "xaxis": {
            "backgroundcolor": "#E5ECF6",
            "gridcolor": "white",
            "gridwidth": 2,
            "linecolor": "white",
            "showbackground": true,
            "ticks": "",
            "zerolinecolor": "white"
           },
           "yaxis": {
            "backgroundcolor": "#E5ECF6",
            "gridcolor": "white",
            "gridwidth": 2,
            "linecolor": "white",
            "showbackground": true,
            "ticks": "",
            "zerolinecolor": "white"
           },
           "zaxis": {
            "backgroundcolor": "#E5ECF6",
            "gridcolor": "white",
            "gridwidth": 2,
            "linecolor": "white",
            "showbackground": true,
            "ticks": "",
            "zerolinecolor": "white"
           }
          },
          "shapedefaults": {
           "line": {
            "color": "#2a3f5f"
           }
          },
          "ternary": {
           "aaxis": {
            "gridcolor": "white",
            "linecolor": "white",
            "ticks": ""
           },
           "baxis": {
            "gridcolor": "white",
            "linecolor": "white",
            "ticks": ""
           },
           "bgcolor": "#E5ECF6",
           "caxis": {
            "gridcolor": "white",
            "linecolor": "white",
            "ticks": ""
           }
          },
          "title": {
           "x": 0.05
          },
          "xaxis": {
           "automargin": true,
           "gridcolor": "white",
           "linecolor": "white",
           "ticks": "",
           "title": {
            "standoff": 15
           },
           "zerolinecolor": "white",
           "zerolinewidth": 2
          },
          "yaxis": {
           "automargin": true,
           "gridcolor": "white",
           "linecolor": "white",
           "ticks": "",
           "title": {
            "standoff": 15
           },
           "zerolinecolor": "white",
           "zerolinewidth": 2
          }
         }
        },
        "xaxis": {
         "anchor": "y",
         "constrain": "domain",
         "domain": [
          0,
          1
         ],
         "scaleanchor": "y"
        },
        "yaxis": {
         "anchor": "x",
         "autorange": "reversed",
         "constrain": "domain",
         "domain": [
          0,
          1
         ]
        }
       }
      },
      "text/html": [
       "<div>                            <div id=\"9757245d-2e43-41fa-9243-56982adeff81\" class=\"plotly-graph-div\" style=\"height:525px; width:100%;\"></div>            <script type=\"text/javascript\">                require([\"plotly\"], function(Plotly) {                    window.PLOTLYENV=window.PLOTLYENV || {};                                    if (document.getElementById(\"9757245d-2e43-41fa-9243-56982adeff81\")) {                    Plotly.newPlot(                        \"9757245d-2e43-41fa-9243-56982adeff81\",                        [{\"coloraxis\":\"coloraxis\",\"name\":\"0\",\"texttemplate\":\"%{z}\",\"x\":[\"Quantit\",\"OrderValue\",\"UnitPrice\"],\"y\":[\"Quantit\",\"OrderValue\",\"UnitPrice\"],\"z\":[[1.0,0.697,-0.072],[0.697,1.0,0.123],[-0.072,0.123,1.0]],\"type\":\"heatmap\",\"xaxis\":\"x\",\"yaxis\":\"y\",\"hovertemplate\":\"x: %{x}<br>y: %{y}<br>color: %{z}<extra></extra>\"}],                        {\"template\":{\"data\":{\"histogram2dcontour\":[{\"type\":\"histogram2dcontour\",\"colorbar\":{\"outlinewidth\":0,\"ticks\":\"\"},\"colorscale\":[[0.0,\"#0d0887\"],[0.1111111111111111,\"#46039f\"],[0.2222222222222222,\"#7201a8\"],[0.3333333333333333,\"#9c179e\"],[0.4444444444444444,\"#bd3786\"],[0.5555555555555556,\"#d8576b\"],[0.6666666666666666,\"#ed7953\"],[0.7777777777777778,\"#fb9f3a\"],[0.8888888888888888,\"#fdca26\"],[1.0,\"#f0f921\"]]}],\"choropleth\":[{\"type\":\"choropleth\",\"colorbar\":{\"outlinewidth\":0,\"ticks\":\"\"}}],\"histogram2d\":[{\"type\":\"histogram2d\",\"colorbar\":{\"outlinewidth\":0,\"ticks\":\"\"},\"colorscale\":[[0.0,\"#0d0887\"],[0.1111111111111111,\"#46039f\"],[0.2222222222222222,\"#7201a8\"],[0.3333333333333333,\"#9c179e\"],[0.4444444444444444,\"#bd3786\"],[0.5555555555555556,\"#d8576b\"],[0.6666666666666666,\"#ed7953\"],[0.7777777777777778,\"#fb9f3a\"],[0.8888888888888888,\"#fdca26\"],[1.0,\"#f0f921\"]]}],\"heatmap\":[{\"type\":\"heatmap\",\"colorbar\":{\"outlinewidth\":0,\"ticks\":\"\"},\"colorscale\":[[0.0,\"#0d0887\"],[0.1111111111111111,\"#46039f\"],[0.2222222222222222,\"#7201a8\"],[0.3333333333333333,\"#9c179e\"],[0.4444444444444444,\"#bd3786\"],[0.5555555555555556,\"#d8576b\"],[0.6666666666666666,\"#ed7953\"],[0.7777777777777778,\"#fb9f3a\"],[0.8888888888888888,\"#fdca26\"],[1.0,\"#f0f921\"]]}],\"heatmapgl\":[{\"type\":\"heatmapgl\",\"colorbar\":{\"outlinewidth\":0,\"ticks\":\"\"},\"colorscale\":[[0.0,\"#0d0887\"],[0.1111111111111111,\"#46039f\"],[0.2222222222222222,\"#7201a8\"],[0.3333333333333333,\"#9c179e\"],[0.4444444444444444,\"#bd3786\"],[0.5555555555555556,\"#d8576b\"],[0.6666666666666666,\"#ed7953\"],[0.7777777777777778,\"#fb9f3a\"],[0.8888888888888888,\"#fdca26\"],[1.0,\"#f0f921\"]]}],\"contourcarpet\":[{\"type\":\"contourcarpet\",\"colorbar\":{\"outlinewidth\":0,\"ticks\":\"\"}}],\"contour\":[{\"type\":\"contour\",\"colorbar\":{\"outlinewidth\":0,\"ticks\":\"\"},\"colorscale\":[[0.0,\"#0d0887\"],[0.1111111111111111,\"#46039f\"],[0.2222222222222222,\"#7201a8\"],[0.3333333333333333,\"#9c179e\"],[0.4444444444444444,\"#bd3786\"],[0.5555555555555556,\"#d8576b\"],[0.6666666666666666,\"#ed7953\"],[0.7777777777777778,\"#fb9f3a\"],[0.8888888888888888,\"#fdca26\"],[1.0,\"#f0f921\"]]}],\"surface\":[{\"type\":\"surface\",\"colorbar\":{\"outlinewidth\":0,\"ticks\":\"\"},\"colorscale\":[[0.0,\"#0d0887\"],[0.1111111111111111,\"#46039f\"],[0.2222222222222222,\"#7201a8\"],[0.3333333333333333,\"#9c179e\"],[0.4444444444444444,\"#bd3786\"],[0.5555555555555556,\"#d8576b\"],[0.6666666666666666,\"#ed7953\"],[0.7777777777777778,\"#fb9f3a\"],[0.8888888888888888,\"#fdca26\"],[1.0,\"#f0f921\"]]}],\"mesh3d\":[{\"type\":\"mesh3d\",\"colorbar\":{\"outlinewidth\":0,\"ticks\":\"\"}}],\"scatter\":[{\"fillpattern\":{\"fillmode\":\"overlay\",\"size\":10,\"solidity\":0.2},\"type\":\"scatter\"}],\"parcoords\":[{\"type\":\"parcoords\",\"line\":{\"colorbar\":{\"outlinewidth\":0,\"ticks\":\"\"}}}],\"scatterpolargl\":[{\"type\":\"scatterpolargl\",\"marker\":{\"colorbar\":{\"outlinewidth\":0,\"ticks\":\"\"}}}],\"bar\":[{\"error_x\":{\"color\":\"#2a3f5f\"},\"error_y\":{\"color\":\"#2a3f5f\"},\"marker\":{\"line\":{\"color\":\"#E5ECF6\",\"width\":0.5},\"pattern\":{\"fillmode\":\"overlay\",\"size\":10,\"solidity\":0.2}},\"type\":\"bar\"}],\"scattergeo\":[{\"type\":\"scattergeo\",\"marker\":{\"colorbar\":{\"outlinewidth\":0,\"ticks\":\"\"}}}],\"scatterpolar\":[{\"type\":\"scatterpolar\",\"marker\":{\"colorbar\":{\"outlinewidth\":0,\"ticks\":\"\"}}}],\"histogram\":[{\"marker\":{\"pattern\":{\"fillmode\":\"overlay\",\"size\":10,\"solidity\":0.2}},\"type\":\"histogram\"}],\"scattergl\":[{\"type\":\"scattergl\",\"marker\":{\"colorbar\":{\"outlinewidth\":0,\"ticks\":\"\"}}}],\"scatter3d\":[{\"type\":\"scatter3d\",\"line\":{\"colorbar\":{\"outlinewidth\":0,\"ticks\":\"\"}},\"marker\":{\"colorbar\":{\"outlinewidth\":0,\"ticks\":\"\"}}}],\"scattermapbox\":[{\"type\":\"scattermapbox\",\"marker\":{\"colorbar\":{\"outlinewidth\":0,\"ticks\":\"\"}}}],\"scatterternary\":[{\"type\":\"scatterternary\",\"marker\":{\"colorbar\":{\"outlinewidth\":0,\"ticks\":\"\"}}}],\"scattercarpet\":[{\"type\":\"scattercarpet\",\"marker\":{\"colorbar\":{\"outlinewidth\":0,\"ticks\":\"\"}}}],\"carpet\":[{\"aaxis\":{\"endlinecolor\":\"#2a3f5f\",\"gridcolor\":\"white\",\"linecolor\":\"white\",\"minorgridcolor\":\"white\",\"startlinecolor\":\"#2a3f5f\"},\"baxis\":{\"endlinecolor\":\"#2a3f5f\",\"gridcolor\":\"white\",\"linecolor\":\"white\",\"minorgridcolor\":\"white\",\"startlinecolor\":\"#2a3f5f\"},\"type\":\"carpet\"}],\"table\":[{\"cells\":{\"fill\":{\"color\":\"#EBF0F8\"},\"line\":{\"color\":\"white\"}},\"header\":{\"fill\":{\"color\":\"#C8D4E3\"},\"line\":{\"color\":\"white\"}},\"type\":\"table\"}],\"barpolar\":[{\"marker\":{\"line\":{\"color\":\"#E5ECF6\",\"width\":0.5},\"pattern\":{\"fillmode\":\"overlay\",\"size\":10,\"solidity\":0.2}},\"type\":\"barpolar\"}],\"pie\":[{\"automargin\":true,\"type\":\"pie\"}]},\"layout\":{\"autotypenumbers\":\"strict\",\"colorway\":[\"#636efa\",\"#EF553B\",\"#00cc96\",\"#ab63fa\",\"#FFA15A\",\"#19d3f3\",\"#FF6692\",\"#B6E880\",\"#FF97FF\",\"#FECB52\"],\"font\":{\"color\":\"#2a3f5f\"},\"hovermode\":\"closest\",\"hoverlabel\":{\"align\":\"left\"},\"paper_bgcolor\":\"white\",\"plot_bgcolor\":\"#E5ECF6\",\"polar\":{\"bgcolor\":\"#E5ECF6\",\"angularaxis\":{\"gridcolor\":\"white\",\"linecolor\":\"white\",\"ticks\":\"\"},\"radialaxis\":{\"gridcolor\":\"white\",\"linecolor\":\"white\",\"ticks\":\"\"}},\"ternary\":{\"bgcolor\":\"#E5ECF6\",\"aaxis\":{\"gridcolor\":\"white\",\"linecolor\":\"white\",\"ticks\":\"\"},\"baxis\":{\"gridcolor\":\"white\",\"linecolor\":\"white\",\"ticks\":\"\"},\"caxis\":{\"gridcolor\":\"white\",\"linecolor\":\"white\",\"ticks\":\"\"}},\"coloraxis\":{\"colorbar\":{\"outlinewidth\":0,\"ticks\":\"\"}},\"colorscale\":{\"sequential\":[[0.0,\"#0d0887\"],[0.1111111111111111,\"#46039f\"],[0.2222222222222222,\"#7201a8\"],[0.3333333333333333,\"#9c179e\"],[0.4444444444444444,\"#bd3786\"],[0.5555555555555556,\"#d8576b\"],[0.6666666666666666,\"#ed7953\"],[0.7777777777777778,\"#fb9f3a\"],[0.8888888888888888,\"#fdca26\"],[1.0,\"#f0f921\"]],\"sequentialminus\":[[0.0,\"#0d0887\"],[0.1111111111111111,\"#46039f\"],[0.2222222222222222,\"#7201a8\"],[0.3333333333333333,\"#9c179e\"],[0.4444444444444444,\"#bd3786\"],[0.5555555555555556,\"#d8576b\"],[0.6666666666666666,\"#ed7953\"],[0.7777777777777778,\"#fb9f3a\"],[0.8888888888888888,\"#fdca26\"],[1.0,\"#f0f921\"]],\"diverging\":[[0,\"#8e0152\"],[0.1,\"#c51b7d\"],[0.2,\"#de77ae\"],[0.3,\"#f1b6da\"],[0.4,\"#fde0ef\"],[0.5,\"#f7f7f7\"],[0.6,\"#e6f5d0\"],[0.7,\"#b8e186\"],[0.8,\"#7fbc41\"],[0.9,\"#4d9221\"],[1,\"#276419\"]]},\"xaxis\":{\"gridcolor\":\"white\",\"linecolor\":\"white\",\"ticks\":\"\",\"title\":{\"standoff\":15},\"zerolinecolor\":\"white\",\"automargin\":true,\"zerolinewidth\":2},\"yaxis\":{\"gridcolor\":\"white\",\"linecolor\":\"white\",\"ticks\":\"\",\"title\":{\"standoff\":15},\"zerolinecolor\":\"white\",\"automargin\":true,\"zerolinewidth\":2},\"scene\":{\"xaxis\":{\"backgroundcolor\":\"#E5ECF6\",\"gridcolor\":\"white\",\"linecolor\":\"white\",\"showbackground\":true,\"ticks\":\"\",\"zerolinecolor\":\"white\",\"gridwidth\":2},\"yaxis\":{\"backgroundcolor\":\"#E5ECF6\",\"gridcolor\":\"white\",\"linecolor\":\"white\",\"showbackground\":true,\"ticks\":\"\",\"zerolinecolor\":\"white\",\"gridwidth\":2},\"zaxis\":{\"backgroundcolor\":\"#E5ECF6\",\"gridcolor\":\"white\",\"linecolor\":\"white\",\"showbackground\":true,\"ticks\":\"\",\"zerolinecolor\":\"white\",\"gridwidth\":2}},\"shapedefaults\":{\"line\":{\"color\":\"#2a3f5f\"}},\"annotationdefaults\":{\"arrowcolor\":\"#2a3f5f\",\"arrowhead\":0,\"arrowwidth\":1},\"geo\":{\"bgcolor\":\"white\",\"landcolor\":\"#E5ECF6\",\"subunitcolor\":\"white\",\"showland\":true,\"showlakes\":true,\"lakecolor\":\"white\"},\"title\":{\"x\":0.05},\"mapbox\":{\"style\":\"light\"}}},\"xaxis\":{\"anchor\":\"y\",\"domain\":[0.0,1.0],\"scaleanchor\":\"y\",\"constrain\":\"domain\"},\"yaxis\":{\"anchor\":\"x\",\"domain\":[0.0,1.0],\"autorange\":\"reversed\",\"constrain\":\"domain\"},\"coloraxis\":{\"colorscale\":[[0.0,\"rgb(241, 236, 236)\"],[0.09090909090909091,\"rgb(230, 209, 203)\"],[0.18181818181818182,\"rgb(221, 182, 170)\"],[0.2727272727272727,\"rgb(213, 156, 137)\"],[0.36363636363636365,\"rgb(205, 129, 103)\"],[0.45454545454545453,\"rgb(196, 102, 73)\"],[0.5454545454545454,\"rgb(186, 74, 47)\"],[0.6363636363636364,\"rgb(172, 44, 36)\"],[0.7272727272727273,\"rgb(149, 19, 39)\"],[0.8181818181818182,\"rgb(120, 14, 40)\"],[0.9090909090909091,\"rgb(89, 13, 31)\"],[1.0,\"rgb(60, 9, 17)\"]]},\"margin\":{\"t\":60}},                        {\"responsive\": true}                    ).then(function(){\n",
       "                            \n",
       "var gd = document.getElementById('9757245d-2e43-41fa-9243-56982adeff81');\n",
       "var x = new MutationObserver(function (mutations, observer) {{\n",
       "        var display = window.getComputedStyle(gd).display;\n",
       "        if (!display || display === 'none') {{\n",
       "            console.log([gd, 'removed!']);\n",
       "            Plotly.purge(gd);\n",
       "            observer.disconnect();\n",
       "        }}\n",
       "}});\n",
       "\n",
       "// Listen for the removal of the full notebook cells\n",
       "var notebookContainer = gd.closest('#notebook-container');\n",
       "if (notebookContainer) {{\n",
       "    x.observe(notebookContainer, {childList: true});\n",
       "}}\n",
       "\n",
       "// Listen for the clearing of the current output cell\n",
       "var outputEl = gd.closest('.output');\n",
       "if (outputEl) {{\n",
       "    x.observe(outputEl, {childList: true});\n",
       "}}\n",
       "\n",
       "                        })                };                });            </script>        </div>"
      ]
     },
     "metadata": {},
     "output_type": "display_data"
    }
   ],
   "source": [
    "# 15- Correlation between 'Quantit','OrderValue','UnitPrice'.\n",
    "px.imshow(round(df[['Quantit','OrderValue','UnitPrice']].corr(),3), text_auto=True, color_continuous_scale=px.colors.sequential.amp)"
   ]
  },
  {
   "cell_type": "markdown",
   "id": "e1b7cfcf",
   "metadata": {},
   "source": [
    "### Done"
   ]
  }
 ],
 "metadata": {
  "kernelspec": {
   "display_name": "Python 3 (ipykernel)",
   "language": "python",
   "name": "python3"
  },
  "language_info": {
   "codemirror_mode": {
    "name": "ipython",
    "version": 3
   },
   "file_extension": ".py",
   "mimetype": "text/x-python",
   "name": "python",
   "nbconvert_exporter": "python",
   "pygments_lexer": "ipython3",
   "version": "3.9.7"
  },
  "varInspector": {
   "cols": {
    "lenName": 16,
    "lenType": 16,
    "lenVar": 40
   },
   "kernels_config": {
    "python": {
     "delete_cmd_postfix": "",
     "delete_cmd_prefix": "del ",
     "library": "var_list.py",
     "varRefreshCmd": "print(var_dic_list())"
    },
    "r": {
     "delete_cmd_postfix": ") ",
     "delete_cmd_prefix": "rm(",
     "library": "var_list.r",
     "varRefreshCmd": "cat(var_dic_list()) "
    }
   },
   "types_to_exclude": [
    "module",
    "function",
    "builtin_function_or_method",
    "instance",
    "_Feature"
   ],
   "window_display": false
  }
 },
 "nbformat": 4,
 "nbformat_minor": 5
}
